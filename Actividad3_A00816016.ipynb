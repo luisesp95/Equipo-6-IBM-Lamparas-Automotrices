{
  "cells": [
    {
      "cell_type": "markdown",
      "id": "470ad0c1",
      "metadata": {
        "id": "470ad0c1"
      },
      "source": [
        "# **Actividad 3 | Aprendizaje supervisado y no supervisado**"
      ]
    },
    {
      "cell_type": "markdown",
      "source": [
        "**Nombre: Luis Carlos Alberto Espinosa Alvarado   \n",
        "Matricula: A00816016**"
      ],
      "metadata": {
        "id": "VVzLKZK0lzGR"
      },
      "id": "VVzLKZK0lzGR"
    },
    {
      "cell_type": "markdown",
      "source": [
        "##   **Introducci\u00f3n teorica**"
      ],
      "metadata": {
        "id": "NQTA1pnlmfK0"
      },
      "id": "NQTA1pnlmfK0"
    },
    {
      "cell_type": "markdown",
      "source": [
        "\u2705 **Aprendizaje Supervisado**\n",
        "\n",
        "El aprendizaje supervisado es una t\u00e9cnica de machine learning en la que el modelo aprende a partir de un conjunto de datos etiquetados. Esto significa que para cada entrada, se conoce el resultado deseado (la etiqueta), y el algoritmo aprende a predecir esas salidas.\n",
        "\n",
        "Objetivo: Predecir una variable de salida (target) basada en variables de entrada (features).\n",
        "\n",
        "\ud83d\udccc Algoritmos representativos:\n",
        "1. Regresi\u00f3n lineal\n",
        "2. Regresi\u00f3n log\u00edstica\n",
        "3. M\u00e1quinas de vectores de soporte (SVM)\n",
        "4. \u00c1rboles de decisi\u00f3n\n",
        "5. Random Forest\n",
        "6. Redes neuronales\n",
        "\n",
        "\u2705 Algoritmos disponibles en PySpark:\n",
        "PySpark (a trav\u00e9s de pyspark.ml) ofrece:\n",
        "\n",
        "1. LinearRegression\n",
        "2. LogisticRegression\n",
        "3. DecisionTreeClassifier y DecisionTreeRegressor\n",
        "4. RandomForestClassifier y RandomForestRegressor\n",
        "5. GBTClassifier y GBTRegressor (Gradient Boosted Trees)\n",
        "6. NaiveBayes\n",
        "7. MultilayerPerceptronClassifier (Redes neuronales)"
      ],
      "metadata": {
        "id": "aO8_hFzLmjl7"
      },
      "id": "aO8_hFzLmjl7"
    },
    {
      "cell_type": "markdown",
      "source": [
        "\ud83d\udd36 **Aprendizaje No Supervisado**\n",
        "\n",
        "El aprendizaje no supervisado se utiliza cuando no hay etiquetas en los datos. El objetivo principal es encontrar patrones, agrupamientos o estructuras ocultas dentro del conjunto de datos.\n",
        "\n",
        "Objetivo: Explorar la estructura interna de los datos sin conocer las salidas esperadas.\n",
        "\n",
        "\ud83d\udccc Algoritmos representativos:\n",
        "1. K-Means\n",
        "2. DBSCAN\n",
        "3. Hierarchical clustering\n",
        "4. Reducci\u00f3n de dimensionalidad (PCA, t-SNE)\n",
        "5. Reglas de asociaci\u00f3n (Apriori, FP-Growth)\n",
        "\n",
        "\ud83d\udd36 Algoritmos disponibles en PySpark:\n",
        "PySpark proporciona:\n",
        "\n",
        "1. KMeans (clustering de k-medias)\n",
        "2. BisectingKMeans (clustering jer\u00e1rquico aproximado)\n",
        "3. GaussianMixture (modelado de mezclas gaussianas)\n",
        "4. LDA (Latent Dirichlet Allocation para modelado de temas)\n",
        "5. PCA (reducci\u00f3n de dimensionalidad)\n",
        "6. FP-Growth (reglas de asociaci\u00f3n)"
      ],
      "metadata": {
        "id": "0NsE7tk3CKOo"
      },
      "id": "0NsE7tk3CKOo"
    },
    {
      "cell_type": "markdown",
      "source": [
        "##    **Selecci\u00f3n de los datos**"
      ],
      "metadata": {
        "id": "ycFbUCeBmkr7"
      },
      "id": "ycFbUCeBmkr7"
    },
    {
      "cell_type": "code",
      "source": [
        "!pip install pyspark\n",
        "!pip install findspark\n",
        "!apt-get install openjdk-8-jdk-headless -qq > /dev/null\n",
        "\n",
        "import os\n",
        "os.environ[\"JAVA_HOME\"] = \"/usr/lib/jvm/java-8-openjdk-amd64\""
      ],
      "metadata": {
        "colab": {
          "base_uri": "https://localhost:8080/"
        },
        "id": "oWfO7yaYg_wJ",
        "outputId": "948af4bb-6e01-4753-d453-b6173fe4b835"
      },
      "id": "oWfO7yaYg_wJ",
      "execution_count": null,
      "outputs": [
        {
          "output_type": "stream",
          "name": "stdout",
          "text": [
            "Requirement already satisfied: pyspark in /usr/local/lib/python3.11/dist-packages (3.5.1)\n",
            "Requirement already satisfied: py4j==0.10.9.7 in /usr/local/lib/python3.11/dist-packages (from pyspark) (0.10.9.7)\n",
            "Collecting findspark\n",
            "  Downloading findspark-2.0.1-py2.py3-none-any.whl.metadata (352 bytes)\n",
            "Downloading findspark-2.0.1-py2.py3-none-any.whl (4.4 kB)\n",
            "Installing collected packages: findspark\n",
            "Successfully installed findspark-2.0.1\n"
          ]
        }
      ]
    },
    {
      "cell_type": "code",
      "execution_count": null,
      "id": "8af7a5d9",
      "metadata": {
        "id": "8af7a5d9",
        "outputId": "76a9950a-77b3-4cfd-a454-92d353e8a561",
        "colab": {
          "base_uri": "https://localhost:8080/",
          "height": 219
        }
      },
      "outputs": [
        {
          "output_type": "execute_result",
          "data": {
            "text/plain": [
              "<pyspark.sql.session.SparkSession at 0x7a272444ac10>"
            ],
            "text/html": [
              "\n",
              "            <div>\n",
              "                <p><b>SparkSession - in-memory</b></p>\n",
              "                \n",
              "        <div>\n",
              "            <p><b>SparkContext</b></p>\n",
              "\n",
              "            <p><a href=\"http://10fc6d3e6323:4040\">Spark UI</a></p>\n",
              "\n",
              "            <dl>\n",
              "              <dt>Version</dt>\n",
              "                <dd><code>v3.5.1</code></dd>\n",
              "              <dt>Master</dt>\n",
              "                <dd><code>local[*]</code></dd>\n",
              "              <dt>AppName</dt>\n",
              "                <dd><code>YellowTripDataAnalysis</code></dd>\n",
              "            </dl>\n",
              "        </div>\n",
              "        \n",
              "            </div>\n",
              "        "
            ]
          },
          "metadata": {},
          "execution_count": 2
        }
      ],
      "source": [
        "import findspark\n",
        "import pandas as pd\n",
        "findspark.init()\n",
        "findspark.find()\n",
        "\n",
        "from pyspark import SparkContext, SparkConf, SQLContext\n",
        "from pyspark.sql import SparkSession\n",
        "# spark = SparkSession.builder.master(\"local[*]\").getOrCreate()\n",
        "# spark.conf.set(\"sparl.sql.repl.eagerEval.enabled\", True)\n",
        "from pyspark.sql.functions import col, isnan, when, count\n",
        "from pyspark.sql import SparkSession\n",
        "\n",
        "from pyspark.sql.functions import col, hour, when, unix_timestamp, round as spark_round\n",
        "from pyspark.sql.types import IntegerType\n",
        "import numpy as np\n",
        "\n",
        "spark = SparkSession.builder \\\n",
        "    .appName(\"YellowTripDataAnalysis\") \\\n",
        "    .master(\"local[*]\") \\\n",
        "    .getOrCreate()\n",
        "\n",
        "spark"
      ]
    },
    {
      "cell_type": "code",
      "execution_count": null,
      "id": "6965cdf8",
      "metadata": {
        "id": "6965cdf8",
        "colab": {
          "base_uri": "https://localhost:8080/"
        },
        "outputId": "f6cfca73-4d93-4281-e43e-0da3ea73821a"
      },
      "outputs": [
        {
          "output_type": "stream",
          "name": "stdout",
          "text": [
            "Mounted at /content/drive\n"
          ]
        }
      ],
      "source": [
        "from google.colab import drive # necesario agregar para cargar datos en Google Colab\n",
        "drive.mount('/content/drive')\n",
        "\n",
        "# df = spark.read.option(\"header\", True).option(\"inferSchema\", True).csv(\"../data/yellow_tripdata/yellow_tripdata_2015-01.csv\")\n",
        "df = spark.read.csv(r'/content/drive/MyDrive/Colab Notebooks/MNA/TC4034 - Analisis de grandes volumenes de datos/Actividad 3/yellow_tripdata_2015-01.csv', header=True, inferSchema=True)"
      ]
    },
    {
      "cell_type": "code",
      "execution_count": null,
      "id": "6024d7f3",
      "metadata": {
        "id": "6024d7f3",
        "outputId": "6efe7b49-0484-4703-8ede-a5e273f9e0ab",
        "colab": {
          "base_uri": "https://localhost:8080/"
        }
      },
      "outputs": [
        {
          "output_type": "stream",
          "name": "stdout",
          "text": [
            "Number of registros: 12748986\n",
            "Number of columnas: 19\n",
            "Esquema de dataframe:\n",
            "root\n",
            " |-- VendorID: integer (nullable = true)\n",
            " |-- tpep_pickup_datetime: timestamp (nullable = true)\n",
            " |-- tpep_dropoff_datetime: timestamp (nullable = true)\n",
            " |-- passenger_count: integer (nullable = true)\n",
            " |-- trip_distance: double (nullable = true)\n",
            " |-- pickup_longitude: double (nullable = true)\n",
            " |-- pickup_latitude: double (nullable = true)\n",
            " |-- RateCodeID: integer (nullable = true)\n",
            " |-- store_and_fwd_flag: string (nullable = true)\n",
            " |-- dropoff_longitude: double (nullable = true)\n",
            " |-- dropoff_latitude: double (nullable = true)\n",
            " |-- payment_type: integer (nullable = true)\n",
            " |-- fare_amount: double (nullable = true)\n",
            " |-- extra: double (nullable = true)\n",
            " |-- mta_tax: double (nullable = true)\n",
            " |-- tip_amount: double (nullable = true)\n",
            " |-- tolls_amount: double (nullable = true)\n",
            " |-- improvement_surcharge: double (nullable = true)\n",
            " |-- total_amount: double (nullable = true)\n",
            "\n",
            "Primeras 5 filas del dataframe:\n",
            "+--------+--------------------+---------------------+---------------+-------------+------------------+------------------+----------+------------------+------------------+------------------+------------+-----------+-----+-------+----------+------------+---------------------+------------+\n",
            "|VendorID|tpep_pickup_datetime|tpep_dropoff_datetime|passenger_count|trip_distance|  pickup_longitude|   pickup_latitude|RateCodeID|store_and_fwd_flag| dropoff_longitude|  dropoff_latitude|payment_type|fare_amount|extra|mta_tax|tip_amount|tolls_amount|improvement_surcharge|total_amount|\n",
            "+--------+--------------------+---------------------+---------------+-------------+------------------+------------------+----------+------------------+------------------+------------------+------------+-----------+-----+-------+----------+------------+---------------------+------------+\n",
            "|       2| 2015-01-15 19:05:39|  2015-01-15 19:23:42|              1|         1.59|  -73.993896484375|  40.7501106262207|         1|                 N|-73.97478485107422| 40.75061798095703|           1|       12.0|  1.0|    0.5|      3.25|         0.0|                  0.3|       17.05|\n",
            "|       1| 2015-01-10 20:33:38|  2015-01-10 20:53:28|              1|          3.3|-74.00164794921875|  40.7242431640625|         1|                 N|-73.99441528320312| 40.75910949707031|           1|       14.5|  0.5|    0.5|       2.0|         0.0|                  0.3|        17.8|\n",
            "|       1| 2015-01-10 20:33:38|  2015-01-10 20:43:41|              1|          1.8|-73.96334075927734| 40.80278778076172|         1|                 N|-73.95182037353516| 40.82441329956055|           2|        9.5|  0.5|    0.5|       0.0|         0.0|                  0.3|        10.8|\n",
            "|       1| 2015-01-10 20:33:39|  2015-01-10 20:35:31|              1|          0.5|-74.00908660888672| 40.71381759643555|         1|                 N|-74.00432586669922| 40.71998596191406|           2|        3.5|  0.5|    0.5|       0.0|         0.0|                  0.3|         4.8|\n",
            "|       1| 2015-01-10 20:33:39|  2015-01-10 20:52:58|              1|          3.0|-73.97117614746094|40.762428283691406|         1|                 N|-74.00418090820312|40.742652893066406|           2|       15.0|  0.5|    0.5|       0.0|         0.0|                  0.3|        16.3|\n",
            "+--------+--------------------+---------------------+---------------+-------------+------------------+------------------+----------+------------------+------------------+------------------+------------+-----------+-----+-------+----------+------------+---------------------+------------+\n",
            "only showing top 5 rows\n",
            "\n"
          ]
        }
      ],
      "source": [
        "num_rows = df.count()\n",
        "num_cols = len(df.columns)\n",
        "print(f\"Number of registros: {num_rows}\")\n",
        "print(f\"Number of columnas: {num_cols}\")\n",
        "\n",
        "print('Esquema de dataframe:')\n",
        "df.printSchema()\n",
        "print('Primeras 5 filas del dataframe:')\n",
        "df.show(5)"
      ]
    },
    {
      "cell_type": "code",
      "execution_count": null,
      "id": "cc74e8dc",
      "metadata": {
        "id": "cc74e8dc",
        "outputId": "55efddcf-fcc1-413b-9fb1-4b140dd1f3cf",
        "colab": {
          "base_uri": "https://localhost:8080/"
        }
      },
      "outputs": [
        {
          "output_type": "stream",
          "name": "stdout",
          "text": [
            "Numero de nulos:\n",
            "+--------+--------------------+---------------------+---------------+-------------+----------------+---------------+----------+------------------+-----------------+----------------+------------+-----------+-----+-------+----------+------------+---------------------+------------+\n",
            "|VendorID|tpep_pickup_datetime|tpep_dropoff_datetime|passenger_count|trip_distance|pickup_longitude|pickup_latitude|RateCodeID|store_and_fwd_flag|dropoff_longitude|dropoff_latitude|payment_type|fare_amount|extra|mta_tax|tip_amount|tolls_amount|improvement_surcharge|total_amount|\n",
            "+--------+--------------------+---------------------+---------------+-------------+----------------+---------------+----------+------------------+-----------------+----------------+------------+-----------+-----+-------+----------+------------+---------------------+------------+\n",
            "|       0|                   0|                    0|              0|            0|               0|              0|         0|                 0|                0|               0|           0|          0|    0|      0|         0|           0|                    3|           0|\n",
            "+--------+--------------------+---------------------+---------------+-------------+----------------+---------------+----------+------------------+-----------------+----------------+------------+-----------+-----+-------+----------+------------+---------------------+------------+\n",
            "\n"
          ]
        }
      ],
      "source": [
        "print('Numero de nulos:')\n",
        "df.select([\n",
        "    count(when(col(c).isNull() | (col(c).cast(\"string\") == \"NaN\"), c)).alias(c)\n",
        "    for c in df.columns\n",
        "]).show()"
      ]
    },
    {
      "cell_type": "code",
      "execution_count": null,
      "id": "587d01eb",
      "metadata": {
        "id": "587d01eb",
        "outputId": "8eed0149-7554-4195-ccc6-b604e3db0890",
        "colab": {
          "base_uri": "https://localhost:8080/"
        }
      },
      "outputs": [
        {
          "output_type": "stream",
          "name": "stdout",
          "text": [
            "Estad\u00edsticas del dataframe:\n",
            "+-------+------------------+------------------+------------------+-------------------+------------------+------------------+------------------+------------------+------------------+------------------+------------------+-------------------+------------------+------------------+-------------------+---------------------+------------------+\n",
            "|summary|          VendorID|   passenger_count|     trip_distance|   pickup_longitude|   pickup_latitude|        RateCodeID|store_and_fwd_flag| dropoff_longitude|  dropoff_latitude|      payment_type|       fare_amount|              extra|           mta_tax|        tip_amount|       tolls_amount|improvement_surcharge|      total_amount|\n",
            "+-------+------------------+------------------+------------------+-------------------+------------------+------------------+------------------+------------------+------------------+------------------+------------------+-------------------+------------------+------------------+-------------------+---------------------+------------------+\n",
            "|  count|          12748986|          12748986|          12748986|           12748986|          12748986|          12748986|          12748986|          12748986|          12748986|          12748986|          12748986|           12748986|          12748986|          12748986|           12748986|             12748983|          12748986|\n",
            "|   mean|1.5214373127400094|1.6814908260154964|13.459129611562718| -72.56183777902534| 39.97282304763482|1.0369007386156044|              NULL|-72.60903923063492|  39.9996144802455|1.3867115392549652|11.905659425776989|0.30827895724412907|0.4977986092384132|1.8538136460419994|0.24349839430352666|  0.28314307893811447|15.108294537401271|\n",
            "| stddev|0.4995402498256225|1.3379235172874737| 9844.094218468374| 10.125103592972911|   5.5786905190884|0.6732239779497589|              NULL|  9.96603703803103|  5.48774188661968|0.4988610635053929|10.302537135952232| 0.5916643112912818|0.0353422867098315|1106.4323141838747| 1.5271714003797854|  0.06908632935830779| 1106.503246710499|\n",
            "|    min|                 1|                 0|               0.0|-121.92581176757812|               0.0|                 1|                 N|-740.1666870117188|-9.029156684875488|                 1|            -450.0|              -79.0|              -0.5|            -92.42|              -26.0|                  0.0|            -450.3|\n",
            "|    max|                 2|                 9|      1.54200045E7|  78.66265106201172|404.70001220703125|                99|                 Y|  85.2740249633789| 459.5333251953125|                 5|            4008.0|             999.99|               0.5|         3950588.8|            1450.09|                  0.3|         3950611.6|\n",
            "+-------+------------------+------------------+------------------+-------------------+------------------+------------------+------------------+------------------+------------------+------------------+------------------+-------------------+------------------+------------------+-------------------+---------------------+------------------+\n",
            "\n"
          ]
        }
      ],
      "source": [
        "print('Estad\u00edsticas del dataframe:')\n",
        "df.describe().show()"
      ]
    },
    {
      "cell_type": "markdown",
      "id": "382f965a",
      "metadata": {
        "id": "382f965a"
      },
      "source": [
        "### De acuerdo a la actividad anterior, donde se obtuvieron particiones de la base de datos global que cumplen con los criterios de las variables de caracterizaci\u00f3n identificadas, se propusieron las siguientes tecnicas de muestreo:\n",
        "\n",
        "\n",
        "*   Combinaci\u00f3n: ((0.0, 10.0), (0.0, 3.0), (0.0, 1.0), (0.0, 2.0)) / iteraci\u00f3n: 1 / proporci\u00f3n: 0.1753\n",
        "\n",
        "  T\u00e9cnica recomendada: Muestreo aleatorio simple\n",
        "\n",
        "*   Combinaci\u00f3n: ((0.0, 10.0), (0.0, 3.0), (1.0, 6.0), (0.0, 2.0)) / iteraci\u00f3n: 3 / proporci\u00f3n: 0.1786\n",
        "\n",
        "  T\u00e9cnica recomendada: Muestreo estratificado por payment_type\n",
        "\n",
        "*   Combinaci\u00f3n: ((10.0, 20.0), (0.0, 3.0), (0.0, 1.0), (0.0, 2.0)) / iteraci\u00f3n: 13 / proporci\u00f3n: 0.2025\n",
        "\n",
        "  T\u00e9cnica recomendada: Muestreo estratificado por passenger_count\n",
        "\n",
        "De las cuales se elige la primera."
      ]
    },
    {
      "cell_type": "markdown",
      "id": "cccdd9ef",
      "metadata": {
        "id": "cccdd9ef"
      },
      "source": [
        "### **Combinaci\u00f3n: ((0.0, 10.0), (0.0, 3.0), (0.0, 1.0), (0.0, 2.0))**"
      ]
    },
    {
      "cell_type": "code",
      "execution_count": null,
      "id": "ba751b3a",
      "metadata": {
        "id": "ba751b3a",
        "outputId": "379acaed-53dc-4bdd-a4d6-5e4f2d755fdb",
        "colab": {
          "base_uri": "https://localhost:8080/",
          "height": 372
        }
      },
      "outputs": [
        {
          "output_type": "stream",
          "name": "stdout",
          "text": [
            "(2234293, 19)\n"
          ]
        },
        {
          "output_type": "display_data",
          "data": {
            "text/plain": [
              "<Figure size 1800x500 with 4 Axes>"
            ],
            "image/png": "[encoded data removed]"
          },
          "metadata": {}
        }
      ],
      "source": [
        "from pyspark.sql.functions import col\n",
        "import matplotlib.pyplot as plt\n",
        "\n",
        "\n",
        "# Definir los rangos de la combinaci\u00f3n\n",
        "total_amount_range = (0.0, 10.0)\n",
        "trip_distance_range = (0.0, 3.0)\n",
        "payment_type_range = (0.0, 1.0)\n",
        "passenger_count_range = (0.0, 2.0)\n",
        "\n",
        "# Filtrar el DataFrame seg\u00fan la combinaci\u00f3n\n",
        "filtered_df = df.filter(\n",
        "    (col(\"total_amount\") > total_amount_range[0]) & (col(\"total_amount\") <= total_amount_range[1]) &\n",
        "    (col(\"trip_distance\") > trip_distance_range[0]) & (col(\"trip_distance\") <= trip_distance_range[1]) &\n",
        "    (col(\"payment_type\") > payment_type_range[0]) & (col(\"payment_type\") <= payment_type_range[1]) &\n",
        "    (col(\"passenger_count\") > passenger_count_range[0]) & (col(\"passenger_count\") <= passenger_count_range[1])\n",
        ")\n",
        "\n",
        "\n",
        "filtered_df_pd=filtered_df.toPandas()\n",
        "\n",
        "print(filtered_df_pd.shape)\n",
        "\n",
        "# Columnas a graficar\n",
        "cols = ['passenger_count', 'trip_distance', 'payment_type', 'total_amount']\n",
        "\n",
        "# Crear una figura con subplots en una matriz de 4x1\n",
        "fig, axes = plt.subplots(nrows=1, ncols=4, figsize=(18, 5))\n",
        "\n",
        "# Iterar sobre las columnas y los ejes para crear los gr\u00e1ficos\n",
        "for i, col in enumerate(cols):\n",
        "    axes[i].hist(filtered_df_pd[col], bins=10, color='blue', alpha=0.7)\n",
        "    axes[i].set_title(f'Distribuci\u00f3n de {col}')\n",
        "    axes[i].set_xlabel(col)\n",
        "    axes[i].set_ylabel('Frecuencia')\n",
        "\n",
        "# Ajustar el espacio entre los subplots\n",
        "plt.tight_layout()"
      ]
    },
    {
      "cell_type": "markdown",
      "id": "defc2c0f",
      "metadata": {
        "id": "defc2c0f"
      },
      "source": [
        "**T\u00e9cnica recomendada:** Muestreo aleatorio simple\n",
        "\n",
        "**Justificaci\u00f3n t\u00e9cnica:**\n",
        "Esta partici\u00f3n es altamente homog\u00e9nea. Las gr\u00e1ficas muestran que:\n",
        "* Las variables no presentan subgrupos internos claros.\n",
        "* No hay clases ocultas ni agrupaciones adicionales dentro del subconjunto.\n",
        "* El 100% de los registros tienen el mismo tipo de pago (payment_type = 1), lo que elimina la necesidad de estratificar por ese campo.\n",
        "* Las pocas observaciones en passenger_count = 2 son insuficientes para justificar un estrato separado.\n",
        "\n",
        "Aplicar un muestreo aleatorio simple sin reemplazo permite seleccionar una muestra representativa sin introducir sesgos ni sobre-representar ning\u00fan subgrupo, porque pr\u00e1cticamente no hay subgrupos que representar."
      ]
    },
    {
      "cell_type": "code",
      "source": [
        "filtered_df_pd.describe()"
      ],
      "metadata": {
        "colab": {
          "base_uri": "https://localhost:8080/",
          "height": 355
        },
        "id": "cyvQiHd8oyQ2",
        "outputId": "a19aeb14-5e3e-4f9d-d9a1-322446a7ac3d"
      },
      "id": "cyvQiHd8oyQ2",
      "execution_count": null,
      "outputs": [
        {
          "output_type": "execute_result",
          "data": {
            "text/plain": [
              "           VendorID           tpep_pickup_datetime  \\\n",
              "count  2.234293e+06                        2234293   \n",
              "mean   1.463343e+00  2015-01-16 18:57:42.562348544   \n",
              "min    1.000000e+00            2015-01-01 00:00:08   \n",
              "25%    1.000000e+00            2015-01-09 15:30:52   \n",
              "50%    1.000000e+00            2015-01-16 15:26:43   \n",
              "75%    2.000000e+00            2015-01-23 21:12:05   \n",
              "max    2.000000e+00            2015-01-31 23:59:59   \n",
              "std    4.986545e-01                            NaN   \n",
              "\n",
              "               tpep_dropoff_datetime  passenger_count  trip_distance  \\\n",
              "count                        2234293     2.234293e+06   2.234293e+06   \n",
              "mean   2015-01-16 19:04:09.037218048     1.154512e+00   9.249052e-01   \n",
              "min              2015-01-01 00:02:24     1.000000e+00   1.000000e-02   \n",
              "25%              2015-01-09 15:37:33     1.000000e+00   7.000000e-01   \n",
              "50%              2015-01-16 15:33:33     1.000000e+00   9.000000e-01   \n",
              "75%              2015-01-23 21:17:52     1.000000e+00   1.160000e+00   \n",
              "max              2016-02-02 12:43:54     2.000000e+00   3.000000e+00   \n",
              "std                              NaN     3.614393e-01   3.448460e-01   \n",
              "\n",
              "       pickup_longitude  pickup_latitude    RateCodeID  dropoff_longitude  \\\n",
              "count      2.234293e+06     2.234293e+06  2.234293e+06       2.234293e+06   \n",
              "mean      -7.255424e+01     3.996723e+01  1.001980e+00      -7.270023e+01   \n",
              "min       -8.745187e+01     0.000000e+00  1.000000e+00      -8.026555e+01   \n",
              "25%       -7.399203e+01     4.073755e+01  1.000000e+00      -7.399220e+01   \n",
              "50%       -7.398222e+01     4.075251e+01  1.000000e+00      -7.398186e+01   \n",
              "75%       -7.396939e+01     4.076707e+01  1.000000e+00      -7.396949e+01   \n",
              "max        0.000000e+00     5.738552e+01  9.900000e+01       8.527402e+01   \n",
              "std        1.017398e+01     5.604568e+00  3.953193e-01       9.648649e+00   \n",
              "\n",
              "       dropoff_latitude  payment_type   fare_amount         extra  \\\n",
              "count      2.234293e+06     2234293.0  2.234293e+06  2.234293e+06   \n",
              "mean       4.004810e+01           1.0  5.762142e+00  2.762701e-01   \n",
              "min       -9.029157e+00           1.0 -3.000000e-01  0.000000e+00   \n",
              "25%        4.073761e+01           1.0  5.000000e+00  0.000000e+00   \n",
              "50%        4.075254e+01           1.0  6.000000e+00  0.000000e+00   \n",
              "75%        4.076788e+01           1.0  6.500000e+00  5.000000e-01   \n",
              "max        5.747092e+01           1.0  1.000000e+01  2.000000e+00   \n",
              "std        5.314951e+00           0.0  1.147174e+00  3.512096e-01   \n",
              "\n",
              "            mta_tax    tip_amount  tolls_amount  improvement_surcharge  \\\n",
              "count  2.234293e+06  2.234293e+06  2.234293e+06           2.234293e+06   \n",
              "mean   4.999002e-01  1.230299e+00  5.076774e-05           2.837659e-01   \n",
              "min    0.000000e+00  0.000000e+00  0.000000e+00           0.000000e+00   \n",
              "25%    5.000000e-01  1.000000e+00  0.000000e+00           3.000000e-01   \n",
              "50%    5.000000e-01  1.200000e+00  0.000000e+00           3.000000e-01   \n",
              "75%    5.000000e-01  1.500000e+00  0.000000e+00           3.000000e-01   \n",
              "max    5.000000e-01  1.000000e+01  6.700000e+00           3.000000e-01   \n",
              "std    7.063568e-03  4.416986e-01  1.146356e-02           6.787263e-02   \n",
              "\n",
              "       total_amount  \n",
              "count  2.234293e+06  \n",
              "mean   8.068063e+00  \n",
              "min    3.000000e-01  \n",
              "25%    7.050000e+00  \n",
              "50%    8.160000e+00  \n",
              "75%    9.200000e+00  \n",
              "max    1.000000e+01  \n",
              "std    1.291084e+00  "
            ],
            "text/html": [
              "\n",
              "  <div id=\"df-9c6e2df9-4daf-4072-898a-bbd397d43378\" class=\"colab-df-container\">\n",
              "    <div>\n",
              "<style scoped>\n",
              "    .dataframe tbody tr th:only-of-type {\n",
              "        vertical-align: middle;\n",
              "    }\n",
              "\n",
              "    .dataframe tbody tr th {\n",
              "        vertical-align: top;\n",
              "    }\n",
              "\n",
              "    .dataframe thead th {\n",
              "        text-align: right;\n",
              "    }\n",
              "</style>\n",
              "<table border=\"1\" class=\"dataframe\">\n",
              "  <thead>\n",
              "    <tr style=\"text-align: right;\">\n",
              "      <th></th>\n",
              "      <th>VendorID</th>\n",
              "      <th>tpep_pickup_datetime</th>\n",
              "      <th>tpep_dropoff_datetime</th>\n",
              "      <th>passenger_count</th>\n",
              "      <th>trip_distance</th>\n",
              "      <th>pickup_longitude</th>\n",
              "      <th>pickup_latitude</th>\n",
              "      <th>RateCodeID</th>\n",
              "      <th>dropoff_longitude</th>\n",
              "      <th>dropoff_latitude</th>\n",
              "      <th>payment_type</th>\n",
              "      <th>fare_amount</th>\n",
              "      <th>extra</th>\n",
              "      <th>mta_tax</th>\n",
              "      <th>tip_amount</th>\n",
              "      <th>tolls_amount</th>\n",
              "      <th>improvement_surcharge</th>\n",
              "      <th>total_amount</th>\n",
              "    </tr>\n",
              "  </thead>\n",
              "  <tbody>\n",
              "    <tr>\n",
              "      <th>count</th>\n",
              "      <td>2.234293e+06</td>\n",
              "      <td>2234293</td>\n",
              "      <td>2234293</td>\n",
              "      <td>2.234293e+06</td>\n",
              "      <td>2.234293e+06</td>\n",
              "      <td>2.234293e+06</td>\n",
              "      <td>2.234293e+06</td>\n",
              "      <td>2.234293e+06</td>\n",
              "      <td>2.234293e+06</td>\n",
              "      <td>2.234293e+06</td>\n",
              "      <td>2234293.0</td>\n",
              "      <td>2.234293e+06</td>\n",
              "      <td>2.234293e+06</td>\n",
              "      <td>2.234293e+06</td>\n",
              "      <td>2.234293e+06</td>\n",
              "      <td>2.234293e+06</td>\n",
              "      <td>2.234293e+06</td>\n",
              "      <td>2.234293e+06</td>\n",
              "    </tr>\n",
              "    <tr>\n",
              "      <th>mean</th>\n",
              "      <td>1.463343e+00</td>\n",
              "      <td>2015-01-16 18:57:42.562348544</td>\n",
              "      <td>2015-01-16 19:04:09.037218048</td>\n",
              "      <td>1.154512e+00</td>\n",
              "      <td>9.249052e-01</td>\n",
              "      <td>-7.255424e+01</td>\n",
              "      <td>3.996723e+01</td>\n",
              "      <td>1.001980e+00</td>\n",
              "      <td>-7.270023e+01</td>\n",
              "      <td>4.004810e+01</td>\n",
              "      <td>1.0</td>\n",
              "      <td>5.762142e+00</td>\n",
              "      <td>2.762701e-01</td>\n",
              "      <td>4.999002e-01</td>\n",
              "      <td>1.230299e+00</td>\n",
              "      <td>5.076774e-05</td>\n",
              "      <td>2.837659e-01</td>\n",
              "      <td>8.068063e+00</td>\n",
              "    </tr>\n",
              "    <tr>\n",
              "      <th>min</th>\n",
              "      <td>1.000000e+00</td>\n",
              "      <td>2015-01-01 00:00:08</td>\n",
              "      <td>2015-01-01 00:02:24</td>\n",
              "      <td>1.000000e+00</td>\n",
              "      <td>1.000000e-02</td>\n",
              "      <td>-8.745187e+01</td>\n",
              "      <td>0.000000e+00</td>\n",
              "      <td>1.000000e+00</td>\n",
              "      <td>-8.026555e+01</td>\n",
              "      <td>-9.029157e+00</td>\n",
              "      <td>1.0</td>\n",
              "      <td>-3.000000e-01</td>\n",
              "      <td>0.000000e+00</td>\n",
              "      <td>0.000000e+00</td>\n",
              "      <td>0.000000e+00</td>\n",
              "      <td>0.000000e+00</td>\n",
              "      <td>0.000000e+00</td>\n",
              "      <td>3.000000e-01</td>\n",
              "    </tr>\n",
              "    <tr>\n",
              "      <th>25%</th>\n",
              "      <td>1.000000e+00</td>\n",
              "      <td>2015-01-09 15:30:52</td>\n",
              "      <td>2015-01-09 15:37:33</td>\n",
              "      <td>1.000000e+00</td>\n",
              "      <td>7.000000e-01</td>\n",
              "      <td>-7.399203e+01</td>\n",
              "      <td>4.073755e+01</td>\n",
              "      <td>1.000000e+00</td>\n",
              "      <td>-7.399220e+01</td>\n",
              "      <td>4.073761e+01</td>\n",
              "      <td>1.0</td>\n",
              "      <td>5.000000e+00</td>\n",
              "      <td>0.000000e+00</td>\n",
              "      <td>5.000000e-01</td>\n",
              "      <td>1.000000e+00</td>\n",
              "      <td>0.000000e+00</td>\n",
              "      <td>3.000000e-01</td>\n",
              "      <td>7.050000e+00</td>\n",
              "    </tr>\n",
              "    <tr>\n",
              "      <th>50%</th>\n",
              "      <td>1.000000e+00</td>\n",
              "      <td>2015-01-16 15:26:43</td>\n",
              "      <td>2015-01-16 15:33:33</td>\n",
              "      <td>1.000000e+00</td>\n",
              "      <td>9.000000e-01</td>\n",
              "      <td>-7.398222e+01</td>\n",
              "      <td>4.075251e+01</td>\n",
              "      <td>1.000000e+00</td>\n",
              "      <td>-7.398186e+01</td>\n",
              "      <td>4.075254e+01</td>\n",
              "      <td>1.0</td>\n",
              "      <td>6.000000e+00</td>\n",
              "      <td>0.000000e+00</td>\n",
              "      <td>5.000000e-01</td>\n",
              "      <td>1.200000e+00</td>\n",
              "      <td>0.000000e+00</td>\n",
              "      <td>3.000000e-01</td>\n",
              "      <td>8.160000e+00</td>\n",
              "    </tr>\n",
              "    <tr>\n",
              "      <th>75%</th>\n",
              "      <td>2.000000e+00</td>\n",
              "      <td>2015-01-23 21:12:05</td>\n",
              "      <td>2015-01-23 21:17:52</td>\n",
              "      <td>1.000000e+00</td>\n",
              "      <td>1.160000e+00</td>\n",
              "      <td>-7.396939e+01</td>\n",
              "      <td>4.076707e+01</td>\n",
              "      <td>1.000000e+00</td>\n",
              "      <td>-7.396949e+01</td>\n",
              "      <td>4.076788e+01</td>\n",
              "      <td>1.0</td>\n",
              "      <td>6.500000e+00</td>\n",
              "      <td>5.000000e-01</td>\n",
              "      <td>5.000000e-01</td>\n",
              "      <td>1.500000e+00</td>\n",
              "      <td>0.000000e+00</td>\n",
              "      <td>3.000000e-01</td>\n",
              "      <td>9.200000e+00</td>\n",
              "    </tr>\n",
              "    <tr>\n",
              "      <th>max</th>\n",
              "      <td>2.000000e+00</td>\n",
              "      <td>2015-01-31 23:59:59</td>\n",
              "      <td>2016-02-02 12:43:54</td>\n",
              "      <td>2.000000e+00</td>\n",
              "      <td>3.000000e+00</td>\n",
              "      <td>0.000000e+00</td>\n",
              "      <td>5.738552e+01</td>\n",
              "      <td>9.900000e+01</td>\n",
              "      <td>8.527402e+01</td>\n",
              "      <td>5.747092e+01</td>\n",
              "      <td>1.0</td>\n",
              "      <td>1.000000e+01</td>\n",
              "      <td>2.000000e+00</td>\n",
              "      <td>5.000000e-01</td>\n",
              "      <td>1.000000e+01</td>\n",
              "      <td>6.700000e+00</td>\n",
              "      <td>3.000000e-01</td>\n",
              "      <td>1.000000e+01</td>\n",
              "    </tr>\n",
              "    <tr>\n",
              "      <th>std</th>\n",
              "      <td>4.986545e-01</td>\n",
              "      <td>NaN</td>\n",
              "      <td>NaN</td>\n",
              "      <td>3.614393e-01</td>\n",
              "      <td>3.448460e-01</td>\n",
              "      <td>1.017398e+01</td>\n",
              "      <td>5.604568e+00</td>\n",
              "      <td>3.953193e-01</td>\n",
              "      <td>9.648649e+00</td>\n",
              "      <td>5.314951e+00</td>\n",
              "      <td>0.0</td>\n",
              "      <td>1.147174e+00</td>\n",
              "      <td>3.512096e-01</td>\n",
              "      <td>7.063568e-03</td>\n",
              "      <td>4.416986e-01</td>\n",
              "      <td>1.146356e-02</td>\n",
              "      <td>6.787263e-02</td>\n",
              "      <td>1.291084e+00</td>\n",
              "    </tr>\n",
              "  </tbody>\n",
              "</table>\n",
              "</div>\n",
              "    <div class=\"colab-df-buttons\">\n",
              "\n",
              "  <div class=\"colab-df-container\">\n",
              "    <button class=\"colab-df-convert\" onclick=\"convertToInteractive('df-9c6e2df9-4daf-4072-898a-bbd397d43378')\"\n",
              "            title=\"Convert this dataframe to an interactive table.\"\n",
              "            style=\"display:none;\">\n",
              "\n",
              "  <svg xmlns=\"http://www.w3.org/2000/svg\" height=\"24px\" viewBox=\"0 -960 960 960\">\n",
              "    <path d=\"M120-120v-720h720v720H120Zm60-500h600v-160H180v160Zm220 220h160v-160H400v160Zm0 220h160v-160H400v160ZM180-400h160v-160H180v160Zm440 0h160v-160H620v160ZM180-180h160v-160H180v160Zm440 0h160v-160H620v160Z\"/>\n",
              "  </svg>\n",
              "    </button>\n",
              "\n",
              "  <style>\n",
              "    .colab-df-container {\n",
              "      display:flex;\n",
              "      gap: 12px;\n",
              "    }\n",
              "\n",
              "    .colab-df-convert {\n",
              "      background-color: #E8F0FE;\n",
              "      border: none;\n",
              "      border-radius: 50%;\n",
              "      cursor: pointer;\n",
              "      display: none;\n",
              "      fill: #1967D2;\n",
              "      height: 32px;\n",
              "      padding: 0 0 0 0;\n",
              "      width: 32px;\n",
              "    }\n",
              "\n",
              "    .colab-df-convert:hover {\n",
              "      background-color: #E2EBFA;\n",
              "      box-shadow: 0px 1px 2px rgba(60, 64, 67, 0.3), 0px 1px 3px 1px rgba(60, 64, 67, 0.15);\n",
              "      fill: #174EA6;\n",
              "    }\n",
              "\n",
              "    .colab-df-buttons div {\n",
              "      margin-bottom: 4px;\n",
              "    }\n",
              "\n",
              "    [theme=dark] .colab-df-convert {\n",
              "      background-color: #3B4455;\n",
              "      fill: #D2E3FC;\n",
              "    }\n",
              "\n",
              "    [theme=dark] .colab-df-convert:hover {\n",
              "      background-color: #434B5C;\n",
              "      box-shadow: 0px 1px 3px 1px rgba(0, 0, 0, 0.15);\n",
              "      filter: drop-shadow(0px 1px 2px rgba(0, 0, 0, 0.3));\n",
              "      fill: #FFFFFF;\n",
              "    }\n",
              "  </style>\n",
              "\n",
              "    <script>\n",
              "      const buttonEl =\n",
              "        document.querySelector('#df-9c6e2df9-4daf-4072-898a-bbd397d43378 button.colab-df-convert');\n",
              "      buttonEl.style.display =\n",
              "        google.colab.kernel.accessAllowed ? 'block' : 'none';\n",
              "\n",
              "      async function convertToInteractive(key) {\n",
              "        const element = document.querySelector('#df-9c6e2df9-4daf-4072-898a-bbd397d43378');\n",
              "        const dataTable =\n",
              "          await google.colab.kernel.invokeFunction('convertToInteractive',\n",
              "                                                    [key], {});\n",
              "        if (!dataTable) return;\n",
              "\n",
              "        const docLinkHtml = 'Like what you see? Visit the ' +\n",
              "          '<a target=\"_blank\" href=https://colab.research.google.com/notebooks/data_table.ipynb>data table notebook</a>'\n",
              "          + ' to learn more about interactive tables.';\n",
              "        element.innerHTML = '';\n",
              "        dataTable['output_type'] = 'display_data';\n",
              "        await google.colab.output.renderOutput(dataTable, element);\n",
              "        const docLink = document.createElement('div');\n",
              "        docLink.innerHTML = docLinkHtml;\n",
              "        element.appendChild(docLink);\n",
              "      }\n",
              "    </script>\n",
              "  </div>\n",
              "\n",
              "\n",
              "    <div id=\"df-b7070547-ad79-4ca7-a1eb-a0c9adc305c3\">\n",
              "      <button class=\"colab-df-quickchart\" onclick=\"quickchart('df-b7070547-ad79-4ca7-a1eb-a0c9adc305c3')\"\n",
              "                title=\"Suggest charts\"\n",
              "                style=\"display:none;\">\n",
              "\n",
              "<svg xmlns=\"http://www.w3.org/2000/svg\" height=\"24px\"viewBox=\"0 0 24 24\"\n",
              "     width=\"24px\">\n",
              "    <g>\n",
              "        <path d=\"M19 3H5c-1.1 0-2 .9-2 2v14c0 1.1.9 2 2 2h14c1.1 0 2-.9 2-2V5c0-1.1-.9-2-2-2zM9 17H7v-7h2v7zm4 0h-2V7h2v10zm4 0h-2v-4h2v4z\"/>\n",
              "    </g>\n",
              "</svg>\n",
              "      </button>\n",
              "\n",
              "<style>\n",
              "  .colab-df-quickchart {\n",
              "      --bg-color: #E8F0FE;\n",
              "      --fill-color: #1967D2;\n",
              "      --hover-bg-color: #E2EBFA;\n",
              "      --hover-fill-color: #174EA6;\n",
              "      --disabled-fill-color: #AAA;\n",
              "      --disabled-bg-color: #DDD;\n",
              "  }\n",
              "\n",
              "  [theme=dark] .colab-df-quickchart {\n",
              "      --bg-color: #3B4455;\n",
              "      --fill-color: #D2E3FC;\n",
              "      --hover-bg-color: #434B5C;\n",
              "      --hover-fill-color: #FFFFFF;\n",
              "      --disabled-bg-color: #3B4455;\n",
              "      --disabled-fill-color: #666;\n",
              "  }\n",
              "\n",
              "  .colab-df-quickchart {\n",
              "    background-color: var(--bg-color);\n",
              "    border: none;\n",
              "    border-radius: 50%;\n",
              "    cursor: pointer;\n",
              "    display: none;\n",
              "    fill: var(--fill-color);\n",
              "    height: 32px;\n",
              "    padding: 0;\n",
              "    width: 32px;\n",
              "  }\n",
              "\n",
              "  .colab-df-quickchart:hover {\n",
              "    background-color: var(--hover-bg-color);\n",
              "    box-shadow: 0 1px 2px rgba(60, 64, 67, 0.3), 0 1px 3px 1px rgba(60, 64, 67, 0.15);\n",
              "    fill: var(--button-hover-fill-color);\n",
              "  }\n",
              "\n",
              "  .colab-df-quickchart-complete:disabled,\n",
              "  .colab-df-quickchart-complete:disabled:hover {\n",
              "    background-color: var(--disabled-bg-color);\n",
              "    fill: var(--disabled-fill-color);\n",
              "    box-shadow: none;\n",
              "  }\n",
              "\n",
              "  .colab-df-spinner {\n",
              "    border: 2px solid var(--fill-color);\n",
              "    border-color: transparent;\n",
              "    border-bottom-color: var(--fill-color);\n",
              "    animation:\n",
              "      spin 1s steps(1) infinite;\n",
              "  }\n",
              "\n",
              "  @keyframes spin {\n",
              "    0% {\n",
              "      border-color: transparent;\n",
              "      border-bottom-color: var(--fill-color);\n",
              "      border-left-color: var(--fill-color);\n",
              "    }\n",
              "    20% {\n",
              "      border-color: transparent;\n",
              "      border-left-color: var(--fill-color);\n",
              "      border-top-color: var(--fill-color);\n",
              "    }\n",
              "    30% {\n",
              "      border-color: transparent;\n",
              "      border-left-color: var(--fill-color);\n",
              "      border-top-color: var(--fill-color);\n",
              "      border-right-color: var(--fill-color);\n",
              "    }\n",
              "    40% {\n",
              "      border-color: transparent;\n",
              "      border-right-color: var(--fill-color);\n",
              "      border-top-color: var(--fill-color);\n",
              "    }\n",
              "    60% {\n",
              "      border-color: transparent;\n",
              "      border-right-color: var(--fill-color);\n",
              "    }\n",
              "    80% {\n",
              "      border-color: transparent;\n",
              "      border-right-color: var(--fill-color);\n",
              "      border-bottom-color: var(--fill-color);\n",
              "    }\n",
              "    90% {\n",
              "      border-color: transparent;\n",
              "      border-bottom-color: var(--fill-color);\n",
              "    }\n",
              "  }\n",
              "</style>\n",
              "\n",
              "      <script>\n",
              "        async function quickchart(key) {\n",
              "          const quickchartButtonEl =\n",
              "            document.querySelector('#' + key + ' button');\n",
              "          quickchartButtonEl.disabled = true;  // To prevent multiple clicks.\n",
              "          quickchartButtonEl.classList.add('colab-df-spinner');\n",
              "          try {\n",
              "            const charts = await google.colab.kernel.invokeFunction(\n",
              "                'suggestCharts', [key], {});\n",
              "          } catch (error) {\n",
              "            console.error('Error during call to suggestCharts:', error);\n",
              "          }\n",
              "          quickchartButtonEl.classList.remove('colab-df-spinner');\n",
              "          quickchartButtonEl.classList.add('colab-df-quickchart-complete');\n",
              "        }\n",
              "        (() => {\n",
              "          let quickchartButtonEl =\n",
              "            document.querySelector('#df-b7070547-ad79-4ca7-a1eb-a0c9adc305c3 button');\n",
              "          quickchartButtonEl.style.display =\n",
              "            google.colab.kernel.accessAllowed ? 'block' : 'none';\n",
              "        })();\n",
              "      </script>\n",
              "    </div>\n",
              "\n",
              "    </div>\n",
              "  </div>\n"
            ],
            "application/vnd.google.colaboratory.intrinsic+json": {
              "type": "dataframe",
              "summary": "{\n  \"name\": \"filtered_df_pd\",\n  \"rows\": 8,\n  \"fields\": [\n    {\n      \"column\": \"VendorID\",\n      \"properties\": {\n        \"dtype\": \"number\",\n        \"std\": 789941.4130797832,\n        \"min\": 0.49865453183892144,\n        \"max\": 2234293.0,\n        \"num_unique_values\": 5,\n        \"samples\": [\n          1.4633425428088438,\n          0.49865453183892144,\n          1.0\n        ],\n        \"semantic_type\": \"\",\n        \"description\": \"\"\n      }\n    },\n    {\n      \"column\": \"tpep_pickup_datetime\",\n      \"properties\": {\n        \"dtype\": \"date\",\n        \"min\": \"1970-01-01 00:00:00.002234293\",\n        \"max\": \"2015-01-31 23:59:59\",\n        \"num_unique_values\": 7,\n        \"samples\": [\n          \"2234293\",\n          \"2015-01-16 18:57:42.562348544\",\n          \"2015-01-23 21:12:05\"\n        ],\n        \"semantic_type\": \"\",\n        \"description\": \"\"\n      }\n    },\n    {\n      \"column\": \"tpep_dropoff_datetime\",\n      \"properties\": {\n        \"dtype\": \"date\",\n        \"min\": \"1970-01-01 00:00:00.002234293\",\n        \"max\": \"2016-02-02 12:43:54\",\n        \"num_unique_values\": 7,\n        \"samples\": [\n          \"2234293\",\n          \"2015-01-16 19:04:09.037218048\",\n          \"2015-01-23 21:17:52\"\n        ],\n        \"semantic_type\": \"\",\n        \"description\": \"\"\n      }\n    },\n    {\n      \"column\": \"passenger_count\",\n      \"properties\": {\n        \"dtype\": \"number\",\n        \"std\": 789941.4861160549,\n        \"min\": 0.36143932387547983,\n        \"max\": 2234293.0,\n        \"num_unique_values\": 5,\n        \"samples\": [\n          1.154512411756202,\n          0.36143932387547983,\n          1.0\n        ],\n        \"semantic_type\": \"\",\n        \"description\": \"\"\n      }\n    },\n    {\n      \"column\": \"trip_distance\",\n      \"properties\": {\n        \"dtype\": \"number\",\n        \"std\": 789941.5101681892,\n        \"min\": 0.01,\n        \"max\": 2234293.0,\n        \"num_unique_values\": 8,\n        \"samples\": [\n          0.9249052250532938,\n          1.16,\n          2234293.0\n        ],\n        \"semantic_type\": \"\",\n        \"description\": \"\"\n      }\n    },\n    {\n      \"column\": \"pickup_longitude\",\n      \"properties\": {\n        \"dtype\": \"number\",\n        \"std\": 789960.6441171734,\n        \"min\": -87.45187377929688,\n        \"max\": 2234293.0,\n        \"num_unique_values\": 8,\n        \"samples\": [\n          -72.5542415494358,\n          -73.96939086914062,\n          2234293.0\n        ],\n        \"semantic_type\": \"\",\n        \"description\": \"\"\n      }\n    },\n    {\n      \"column\": \"pickup_latitude\",\n      \"properties\": {\n        \"dtype\": \"number\",\n        \"std\": 789930.4909221554,\n        \"min\": 0.0,\n        \"max\": 2234293.0,\n        \"num_unique_values\": 8,\n        \"samples\": [\n          39.967225945127616,\n          40.76707077026367,\n          2234293.0\n        ],\n        \"semantic_type\": \"\",\n        \"description\": \"\"\n      }\n    },\n    {\n      \"column\": \"RateCodeID\",\n      \"properties\": {\n        \"dtype\": \"number\",\n        \"std\": 789936.5936148561,\n        \"min\": 0.3953193055117125,\n        \"max\": 2234293.0,\n        \"num_unique_values\": 5,\n        \"samples\": [\n          1.0019800446942277,\n          0.3953193055117125,\n          1.0\n        ],\n        \"semantic_type\": \"\",\n        \"description\": \"\"\n      }\n    },\n    {\n      \"column\": \"dropoff_longitude\",\n      \"properties\": {\n        \"dtype\": \"number\",\n        \"std\": 789956.0093888888,\n        \"min\": -80.26554870605469,\n        \"max\": 2234293.0,\n        \"num_unique_values\": 8,\n        \"samples\": [\n          -72.70023100888274,\n          -73.96949005126953,\n          2234293.0\n        ],\n        \"semantic_type\": \"\",\n        \"description\": \"\"\n      }\n    },\n    {\n      \"column\": \"dropoff_latitude\",\n      \"properties\": {\n        \"dtype\": \"number\",\n        \"std\": 789930.9532085506,\n        \"min\": -9.029156684875488,\n        \"max\": 2234293.0,\n        \"num_unique_values\": 8,\n        \"samples\": [\n          40.04809536468075,\n          40.76788330078125,\n          2234293.0\n        ],\n        \"semantic_type\": \"\",\n        \"description\": \"\"\n      }\n    },\n    {\n      \"column\": \"payment_type\",\n      \"properties\": {\n        \"dtype\": \"number\",\n        \"std\": 789941.5626831315,\n        \"min\": 0.0,\n        \"max\": 2234293.0,\n        \"num_unique_values\": 3,\n        \"samples\": [\n          2234293.0,\n          1.0,\n          0.0\n        ],\n        \"semantic_type\": \"\",\n        \"description\": \"\"\n      }\n    },\n    {\n      \"column\": \"fare_amount\",\n      \"properties\": {\n        \"dtype\": \"number\",\n        \"std\": 789940.1429546815,\n        \"min\": -0.3,\n        \"max\": 2234293.0,\n        \"num_unique_values\": 8,\n        \"samples\": [\n          5.7621418990257744,\n          6.5,\n          2234293.0\n        ],\n        \"semantic_type\": \"\",\n        \"description\": \"\"\n      }\n    },\n    {\n      \"column\": \"extra\",\n      \"properties\": {\n        \"dtype\": \"number\",\n        \"std\": 789941.707767512,\n        \"min\": 0.0,\n        \"max\": 2234293.0,\n        \"num_unique_values\": 6,\n        \"samples\": [\n          2234293.0,\n          0.27627010871000374,\n          0.3512096441136048\n        ],\n        \"semantic_type\": \"\",\n        \"description\": \"\"\n      }\n    },\n    {\n      \"column\": \"mta_tax\",\n      \"properties\": {\n        \"dtype\": \"number\",\n        \"std\": 789941.7391080582,\n        \"min\": 0.0,\n        \"max\": 2234293.0,\n        \"num_unique_values\": 5,\n        \"samples\": [\n          0.4999001921413172,\n          0.007063567799991551,\n          0.0\n        ],\n        \"semantic_type\": \"\",\n        \"description\": \"\"\n      }\n    },\n    {\n      \"column\": \"tip_amount\",\n      \"properties\": {\n        \"dtype\": \"number\",\n        \"std\": 789941.0893322357,\n        \"min\": 0.0,\n        \"max\": 2234293.0,\n        \"num_unique_values\": 8,\n        \"samples\": [\n          1.2302994728086234,\n          1.5,\n          2234293.0\n        ],\n        \"semantic_type\": \"\",\n        \"description\": \"\"\n      }\n    },\n    {\n      \"column\": \"tolls_amount\",\n      \"properties\": {\n        \"dtype\": \"number\",\n        \"std\": 789941.5267496307,\n        \"min\": 0.0,\n        \"max\": 2234293.0,\n        \"num_unique_values\": 5,\n        \"samples\": [\n          5.0767737266329906e-05,\n          0.01146356121737537,\n          0.0\n        ],\n        \"semantic_type\": \"\",\n        \"description\": \"\"\n      }\n    },\n    {\n      \"column\": \"improvement_surcharge\",\n      \"properties\": {\n        \"dtype\": \"number\",\n        \"std\": 789941.7873592477,\n        \"min\": 0.0,\n        \"max\": 2234293.0,\n        \"num_unique_values\": 5,\n        \"samples\": [\n          0.28376587135169823,\n          0.06787262867555223,\n          0.0\n        ],\n        \"semantic_type\": \"\",\n        \"description\": \"\"\n      }\n    },\n    {\n      \"column\": \"total_amount\",\n      \"properties\": {\n        \"dtype\": \"number\",\n        \"std\": 789939.639908939,\n        \"min\": 0.3,\n        \"max\": 2234293.0,\n        \"num_unique_values\": 8,\n        \"samples\": [\n          8.068062653376252,\n          9.2,\n          2234293.0\n        ],\n        \"semantic_type\": \"\",\n        \"description\": \"\"\n      }\n    }\n  ]\n}"
            }
          },
          "metadata": {},
          "execution_count": 9
        }
      ]
    },
    {
      "cell_type": "code",
      "source": [
        "filtered_df.printSchema()\n",
        "filtered_df.describe().show()"
      ],
      "metadata": {
        "colab": {
          "base_uri": "https://localhost:8080/"
        },
        "id": "tf1Ni3KvqHn7",
        "outputId": "3489b724-56de-470e-86cb-11e363286053"
      },
      "id": "tf1Ni3KvqHn7",
      "execution_count": null,
      "outputs": [
        {
          "output_type": "stream",
          "name": "stdout",
          "text": [
            "root\n",
            " |-- VendorID: integer (nullable = true)\n",
            " |-- tpep_pickup_datetime: timestamp (nullable = true)\n",
            " |-- tpep_dropoff_datetime: timestamp (nullable = true)\n",
            " |-- passenger_count: integer (nullable = true)\n",
            " |-- trip_distance: double (nullable = true)\n",
            " |-- pickup_longitude: double (nullable = true)\n",
            " |-- pickup_latitude: double (nullable = true)\n",
            " |-- RateCodeID: integer (nullable = true)\n",
            " |-- store_and_fwd_flag: string (nullable = true)\n",
            " |-- dropoff_longitude: double (nullable = true)\n",
            " |-- dropoff_latitude: double (nullable = true)\n",
            " |-- payment_type: integer (nullable = true)\n",
            " |-- fare_amount: double (nullable = true)\n",
            " |-- extra: double (nullable = true)\n",
            " |-- mta_tax: double (nullable = true)\n",
            " |-- tip_amount: double (nullable = true)\n",
            " |-- tolls_amount: double (nullable = true)\n",
            " |-- improvement_surcharge: double (nullable = true)\n",
            " |-- total_amount: double (nullable = true)\n",
            "\n",
            "+-------+------------------+-------------------+------------------+------------------+------------------+-------------------+------------------+------------------+------------------+------------+------------------+-------------------+--------------------+------------------+--------------------+---------------------+------------------+\n",
            "|summary|          VendorID|    passenger_count|     trip_distance|  pickup_longitude|   pickup_latitude|         RateCodeID|store_and_fwd_flag| dropoff_longitude|  dropoff_latitude|payment_type|       fare_amount|              extra|             mta_tax|        tip_amount|        tolls_amount|improvement_surcharge|      total_amount|\n",
            "+-------+------------------+-------------------+------------------+------------------+------------------+-------------------+------------------+------------------+------------------+------------+------------------+-------------------+--------------------+------------------+--------------------+---------------------+------------------+\n",
            "|  count|           2234293|            2234293|           2234293|           2234293|           2234293|            2234293|           2234293|           2234293|           2234293|     2234293|           2234293|            2234293|             2234293|           2234293|             2234293|              2234293|           2234293|\n",
            "|   mean|1.4633425428088438|  1.154512411756202|0.9249052250532952| -72.5542415494358|39.967225945127616| 1.0019800446942277|              NULL|-72.70023100888274| 40.04809536468075|         1.0| 5.762141899025687|0.27627010871000357|  0.4999001921413172|1.2302994728086003|5.076773726632988E-5|  0.28376587135194037| 8.068062653383976|\n",
            "| stddev|0.4986545318385436|0.36143932386938465|0.3448459704312719|10.173983096302587| 5.604568192483835|0.39531930551170114|              NULL| 9.648649157700095| 5.314950509936368|         0.0|1.1471740470193803| 0.3512096441122117|0.007063567799897507|0.4416986334702378| 0.01146356121753376|  0.06787262867558347|1.2910843078459064|\n",
            "|    min|                 1|                  1|              0.01|-87.45187377929688|               0.0|                  1|                 N|-80.26554870605469|-9.029156684875488|           1|              -0.3|                0.0|                 0.0|               0.0|                 0.0|                  0.0|               0.3|\n",
            "|    max|                 2|                  2|               3.0|               0.0|57.385520935058594|                 99|                 Y|  85.2740249633789|57.470916748046875|           1|              10.0|                2.0|                 0.5|              10.0|                 6.7|                  0.3|              10.0|\n",
            "+-------+------------------+-------------------+------------------+------------------+------------------+-------------------+------------------+------------------+------------------+------------+------------------+-------------------+--------------------+------------------+--------------------+---------------------+------------------+\n",
            "\n"
          ]
        }
      ]
    },
    {
      "cell_type": "code",
      "source": [
        "print(\"N\u00famero de registros: \" + str(filtered_df.count()))\n",
        "print(\"N\u00famero de columnas: \" + str(len(filtered_df.columns)))"
      ],
      "metadata": {
        "colab": {
          "base_uri": "https://localhost:8080/"
        },
        "id": "8wh5OMV4yUzW",
        "outputId": "14638c4b-90d2-4aec-c29a-caa4634e3923"
      },
      "id": "8wh5OMV4yUzW",
      "execution_count": null,
      "outputs": [
        {
          "output_type": "stream",
          "name": "stdout",
          "text": [
            "N\u00famero de registros: 2234293\n",
            "N\u00famero de columnas: 19\n"
          ]
        }
      ]
    },
    {
      "cell_type": "markdown",
      "source": [
        "# Preparaci\u00f3n de los datos"
      ],
      "metadata": {
        "id": "FCsPabShLA6o"
      },
      "id": "FCsPabShLA6o"
    },
    {
      "cell_type": "code",
      "source": [
        "# Limpieza b\u00e1sica de datos\n",
        "df_clean= filtered_df.drop(\"store_and_fwd_flag\")\n",
        "\n",
        "#Se eliminan registros con valores nulos\n",
        "df_clean = filtered_df.dropna()\n",
        "\n",
        "#Se eliminan registros duplicados\n",
        "df_clean= filtered_df.dropDuplicates()\n",
        "\n",
        "df_clean.explain()\n",
        "df_clean.show(5)\n",
        "\n",
        "print(\"N\u00famero de registros: \" + str(df_clean.count()))\n",
        "print(\"N\u00famero de columnas: \" + str(len(df_clean.columns)))"
      ],
      "metadata": {
        "colab": {
          "base_uri": "https://localhost:8080/"
        },
        "id": "LKZ-aAh34_Id",
        "outputId": "6988f9ef-ad67-4cd4-d331-5ea7c4c439ea"
      },
      "id": "LKZ-aAh34_Id",
      "execution_count": null,
      "outputs": [
        {
          "output_type": "stream",
          "name": "stdout",
          "text": [
            "== Physical Plan ==\n",
            "AdaptiveSparkPlan isFinalPlan=false\n",
            "+- HashAggregate(keys=[improvement_surcharge#34, tpep_dropoff_datetime#19, trip_distance#21, dropoff_longitude#26, RateCodeID#24, pickup_latitude#23, tolls_amount#33, VendorID#17, tip_amount#32, payment_type#28, fare_amount#29, pickup_longitude#22, passenger_count#20, store_and_fwd_flag#25, extra#30, total_amount#35, tpep_pickup_datetime#18, dropoff_latitude#27, mta_tax#31], functions=[])\n",
            "   +- Exchange hashpartitioning(improvement_surcharge#34, tpep_dropoff_datetime#19, trip_distance#21, dropoff_longitude#26, RateCodeID#24, pickup_latitude#23, tolls_amount#33, VendorID#17, tip_amount#32, payment_type#28, fare_amount#29, pickup_longitude#22, passenger_count#20, store_and_fwd_flag#25, extra#30, total_amount#35, tpep_pickup_datetime#18, dropoff_latitude#27, mta_tax#31, 200), ENSURE_REQUIREMENTS, [plan_id=417]\n",
            "      +- HashAggregate(keys=[knownfloatingpointnormalized(normalizenanandzero(improvement_surcharge#34)) AS improvement_surcharge#34, tpep_dropoff_datetime#19, knownfloatingpointnormalized(normalizenanandzero(trip_distance#21)) AS trip_distance#21, knownfloatingpointnormalized(normalizenanandzero(dropoff_longitude#26)) AS dropoff_longitude#26, RateCodeID#24, knownfloatingpointnormalized(normalizenanandzero(pickup_latitude#23)) AS pickup_latitude#23, knownfloatingpointnormalized(normalizenanandzero(tolls_amount#33)) AS tolls_amount#33, VendorID#17, knownfloatingpointnormalized(normalizenanandzero(tip_amount#32)) AS tip_amount#32, payment_type#28, knownfloatingpointnormalized(normalizenanandzero(fare_amount#29)) AS fare_amount#29, knownfloatingpointnormalized(normalizenanandzero(pickup_longitude#22)) AS pickup_longitude#22, passenger_count#20, store_and_fwd_flag#25, knownfloatingpointnormalized(normalizenanandzero(extra#30)) AS extra#30, knownfloatingpointnormalized(normalizenanandzero(total_amount#35)) AS total_amount#35, tpep_pickup_datetime#18, knownfloatingpointnormalized(normalizenanandzero(dropoff_latitude#27)) AS dropoff_latitude#27, knownfloatingpointnormalized(normalizenanandzero(mta_tax#31)) AS mta_tax#31], functions=[])\n",
            "         +- Filter (((((((((((isnotnull(total_amount#35) AND isnotnull(trip_distance#21)) AND isnotnull(payment_type#28)) AND isnotnull(passenger_count#20)) AND (total_amount#35 > 0.0)) AND (total_amount#35 <= 10.0)) AND (trip_distance#21 > 0.0)) AND (trip_distance#21 <= 3.0)) AND (payment_type#28 > 0)) AND (payment_type#28 <= 1)) AND (passenger_count#20 > 0)) AND (passenger_count#20 <= 2))\n",
            "            +- FileScan csv [VendorID#17,tpep_pickup_datetime#18,tpep_dropoff_datetime#19,passenger_count#20,trip_distance#21,pickup_longitude#22,pickup_latitude#23,RateCodeID#24,store_and_fwd_flag#25,dropoff_longitude#26,dropoff_latitude#27,payment_type#28,fare_amount#29,extra#30,mta_tax#31,tip_amount#32,tolls_amount#33,improvement_surcharge#34,total_amount#35] Batched: false, DataFilters: [isnotnull(total_amount#35), isnotnull(trip_distance#21), isnotnull(payment_type#28), isnotnull(p..., Format: CSV, Location: InMemoryFileIndex(1 paths)[file:/content/drive/MyDrive/Colab Notebooks/MNA/TC4034 - Analisis de g..., PartitionFilters: [], PushedFilters: [IsNotNull(total_amount), IsNotNull(trip_distance), IsNotNull(payment_type), IsNotNull(passenger_..., ReadSchema: struct<VendorID:int,tpep_pickup_datetime:timestamp,tpep_dropoff_datetime:timestamp,passenger_coun...\n",
            "\n",
            "\n",
            "+--------+--------------------+---------------------+---------------+-------------+------------------+------------------+----------+------------------+------------------+-----------------+------------+-----------+-----+-------+----------+------------+---------------------+------------+\n",
            "|VendorID|tpep_pickup_datetime|tpep_dropoff_datetime|passenger_count|trip_distance|  pickup_longitude|   pickup_latitude|RateCodeID|store_and_fwd_flag| dropoff_longitude| dropoff_latitude|payment_type|fare_amount|extra|mta_tax|tip_amount|tolls_amount|improvement_surcharge|total_amount|\n",
            "+--------+--------------------+---------------------+---------------+-------------+------------------+------------------+----------+------------------+------------------+-----------------+------------+-----------+-----+-------+----------+------------+---------------------+------------+\n",
            "|       1| 2015-01-10 20:33:40|  2015-01-10 20:41:39|              1|          0.9|-73.98861694335938| 40.72310256958008|         1|                 N|   -74.00439453125|40.72858428955078|           1|        7.0|  0.5|    0.5|      1.66|         0.0|                  0.3|        9.96|\n",
            "|       1| 2015-01-28 10:49:57|  2015-01-28 10:52:36|              1|          0.4|-73.99168395996094|40.740150451660156|         1|                 N|-73.99224090576172|40.73573684692383|           1|        4.0|  0.0|    0.5|       1.2|         0.0|                  0.3|         6.0|\n",
            "|       2| 2015-01-18 13:05:11|  2015-01-18 13:09:45|              1|         0.77|-73.95616149902344| 40.76752471923828|         1|                 N|-73.95635986328125|40.77579116821289|           1|        5.0|  0.0|    0.5|       1.0|         0.0|                  0.3|         6.8|\n",
            "|       1| 2015-01-26 13:55:42|  2015-01-26 14:01:21|              1|          0.8|-74.00785827636719|  40.7122802734375|         1|                 N|-74.01356506347656|40.70231628417969|           1|        5.5|  0.0|    0.5|      1.25|         0.0|                  0.3|        7.55|\n",
            "|       1| 2015-01-26 13:55:45|  2015-01-26 14:02:19|              1|          1.0|-73.96173095703125| 40.71589279174805|         1|                 N|-73.94723510742188|40.71120071411133|           1|        6.0|  0.0|    0.5|       1.0|         0.0|                  0.3|         7.8|\n",
            "+--------+--------------------+---------------------+---------------+-------------+------------------+------------------+----------+------------------+------------------+-----------------+------------+-----------+-----+-------+----------+------------+---------------------+------------+\n",
            "only showing top 5 rows\n",
            "\n",
            "N\u00famero de registros: 2234293\n",
            "N\u00famero de columnas: 19\n"
          ]
        }
      ]
    },
    {
      "cell_type": "markdown",
      "source": [
        "# Preparaci\u00f3n del conjunto de entrenamiento y prueba"
      ],
      "metadata": {
        "id": "5JMkN2-xLK9m"
      },
      "id": "5JMkN2-xLK9m"
    },
    {
      "cell_type": "code",
      "source": [
        "# Particionamiento t\u00edpico\n",
        "# Se define el valor por default del n\u00famero de ejecutores\n",
        "spark.conf.set(\"spark.sql.shuffle.partitions\", \"200\")\n",
        "train_data,test_data = df_clean.randomSplit([0.8,0.2], seed = 42)\n",
        "print(f\"\"\"Existen {train_data.count()} instancias en el conjunto train, y {test_data.count()} en el conjunto test\"\"\")"
      ],
      "metadata": {
        "colab": {
          "base_uri": "https://localhost:8080/"
        },
        "id": "cDjM7wSc5FTN",
        "outputId": "65ae0861-3a67-43a5-cdee-0a20b2bf4ac5"
      },
      "id": "cDjM7wSc5FTN",
      "execution_count": null,
      "outputs": [
        {
          "output_type": "stream",
          "name": "stdout",
          "text": [
            "Existen 1788004 instancias en el conjunto train, y 446289 en el conjunto test\n"
          ]
        }
      ]
    },
    {
      "cell_type": "code",
      "source": [
        "train_data.explain()\n",
        "test_data.explain()"
      ],
      "metadata": {
        "colab": {
          "base_uri": "https://localhost:8080/"
        },
        "id": "8Z5b7rs75It-",
        "outputId": "503f4247-744f-4638-c84b-133687802232"
      },
      "id": "8Z5b7rs75It-",
      "execution_count": null,
      "outputs": [
        {
          "output_type": "stream",
          "name": "stdout",
          "text": [
            "== Physical Plan ==\n",
            "AdaptiveSparkPlan isFinalPlan=false\n",
            "+- Sample 0.0, 0.8, false, 42\n",
            "   +- Sort [VendorID#17 ASC NULLS FIRST, tpep_pickup_datetime#18 ASC NULLS FIRST, tpep_dropoff_datetime#19 ASC NULLS FIRST, passenger_count#20 ASC NULLS FIRST, trip_distance#21 ASC NULLS FIRST, pickup_longitude#22 ASC NULLS FIRST, pickup_latitude#23 ASC NULLS FIRST, RateCodeID#24 ASC NULLS FIRST, store_and_fwd_flag#25 ASC NULLS FIRST, dropoff_longitude#26 ASC NULLS FIRST, dropoff_latitude#27 ASC NULLS FIRST, payment_type#28 ASC NULLS FIRST, fare_amount#29 ASC NULLS FIRST, extra#30 ASC NULLS FIRST, mta_tax#31 ASC NULLS FIRST, tip_amount#32 ASC NULLS FIRST, tolls_amount#33 ASC NULLS FIRST, improvement_surcharge#34 ASC NULLS FIRST, total_amount#35 ASC NULLS FIRST], false, 0\n",
            "      +- HashAggregate(keys=[improvement_surcharge#34, tpep_dropoff_datetime#19, trip_distance#21, dropoff_longitude#26, RateCodeID#24, pickup_latitude#23, tolls_amount#33, VendorID#17, tip_amount#32, payment_type#28, fare_amount#29, pickup_longitude#22, passenger_count#20, store_and_fwd_flag#25, extra#30, total_amount#35, tpep_pickup_datetime#18, dropoff_latitude#27, mta_tax#31], functions=[])\n",
            "         +- Exchange hashpartitioning(improvement_surcharge#34, tpep_dropoff_datetime#19, trip_distance#21, dropoff_longitude#26, RateCodeID#24, pickup_latitude#23, tolls_amount#33, VendorID#17, tip_amount#32, payment_type#28, fare_amount#29, pickup_longitude#22, passenger_count#20, store_and_fwd_flag#25, extra#30, total_amount#35, tpep_pickup_datetime#18, dropoff_latitude#27, mta_tax#31, 200), ENSURE_REQUIREMENTS, [plan_id=893]\n",
            "            +- HashAggregate(keys=[knownfloatingpointnormalized(normalizenanandzero(improvement_surcharge#34)) AS improvement_surcharge#34, tpep_dropoff_datetime#19, knownfloatingpointnormalized(normalizenanandzero(trip_distance#21)) AS trip_distance#21, knownfloatingpointnormalized(normalizenanandzero(dropoff_longitude#26)) AS dropoff_longitude#26, RateCodeID#24, knownfloatingpointnormalized(normalizenanandzero(pickup_latitude#23)) AS pickup_latitude#23, knownfloatingpointnormalized(normalizenanandzero(tolls_amount#33)) AS tolls_amount#33, VendorID#17, knownfloatingpointnormalized(normalizenanandzero(tip_amount#32)) AS tip_amount#32, payment_type#28, knownfloatingpointnormalized(normalizenanandzero(fare_amount#29)) AS fare_amount#29, knownfloatingpointnormalized(normalizenanandzero(pickup_longitude#22)) AS pickup_longitude#22, passenger_count#20, store_and_fwd_flag#25, knownfloatingpointnormalized(normalizenanandzero(extra#30)) AS extra#30, knownfloatingpointnormalized(normalizenanandzero(total_amount#35)) AS total_amount#35, tpep_pickup_datetime#18, knownfloatingpointnormalized(normalizenanandzero(dropoff_latitude#27)) AS dropoff_latitude#27, knownfloatingpointnormalized(normalizenanandzero(mta_tax#31)) AS mta_tax#31], functions=[])\n",
            "               +- Filter (((((((((((isnotnull(total_amount#35) AND isnotnull(trip_distance#21)) AND isnotnull(payment_type#28)) AND isnotnull(passenger_count#20)) AND (total_amount#35 > 0.0)) AND (total_amount#35 <= 10.0)) AND (trip_distance#21 > 0.0)) AND (trip_distance#21 <= 3.0)) AND (payment_type#28 > 0)) AND (payment_type#28 <= 1)) AND (passenger_count#20 > 0)) AND (passenger_count#20 <= 2))\n",
            "                  +- FileScan csv [VendorID#17,tpep_pickup_datetime#18,tpep_dropoff_datetime#19,passenger_count#20,trip_distance#21,pickup_longitude#22,pickup_latitude#23,RateCodeID#24,store_and_fwd_flag#25,dropoff_longitude#26,dropoff_latitude#27,payment_type#28,fare_amount#29,extra#30,mta_tax#31,tip_amount#32,tolls_amount#33,improvement_surcharge#34,total_amount#35] Batched: false, DataFilters: [isnotnull(total_amount#35), isnotnull(trip_distance#21), isnotnull(payment_type#28), isnotnull(p..., Format: CSV, Location: InMemoryFileIndex(1 paths)[file:/content/drive/MyDrive/Colab Notebooks/MNA/TC4034 - Analisis de g..., PartitionFilters: [], PushedFilters: [IsNotNull(total_amount), IsNotNull(trip_distance), IsNotNull(payment_type), IsNotNull(passenger_..., ReadSchema: struct<VendorID:int,tpep_pickup_datetime:timestamp,tpep_dropoff_datetime:timestamp,passenger_coun...\n",
            "\n",
            "\n",
            "== Physical Plan ==\n",
            "AdaptiveSparkPlan isFinalPlan=false\n",
            "+- Sample 0.8, 1.0, false, 42\n",
            "   +- Sort [VendorID#17 ASC NULLS FIRST, tpep_pickup_datetime#18 ASC NULLS FIRST, tpep_dropoff_datetime#19 ASC NULLS FIRST, passenger_count#20 ASC NULLS FIRST, trip_distance#21 ASC NULLS FIRST, pickup_longitude#22 ASC NULLS FIRST, pickup_latitude#23 ASC NULLS FIRST, RateCodeID#24 ASC NULLS FIRST, store_and_fwd_flag#25 ASC NULLS FIRST, dropoff_longitude#26 ASC NULLS FIRST, dropoff_latitude#27 ASC NULLS FIRST, payment_type#28 ASC NULLS FIRST, fare_amount#29 ASC NULLS FIRST, extra#30 ASC NULLS FIRST, mta_tax#31 ASC NULLS FIRST, tip_amount#32 ASC NULLS FIRST, tolls_amount#33 ASC NULLS FIRST, improvement_surcharge#34 ASC NULLS FIRST, total_amount#35 ASC NULLS FIRST], false, 0\n",
            "      +- HashAggregate(keys=[improvement_surcharge#34, tpep_dropoff_datetime#19, trip_distance#21, dropoff_longitude#26, RateCodeID#24, pickup_latitude#23, tolls_amount#33, VendorID#17, tip_amount#32, payment_type#28, fare_amount#29, pickup_longitude#22, passenger_count#20, store_and_fwd_flag#25, extra#30, total_amount#35, tpep_pickup_datetime#18, dropoff_latitude#27, mta_tax#31], functions=[])\n",
            "         +- Exchange hashpartitioning(improvement_surcharge#34, tpep_dropoff_datetime#19, trip_distance#21, dropoff_longitude#26, RateCodeID#24, pickup_latitude#23, tolls_amount#33, VendorID#17, tip_amount#32, payment_type#28, fare_amount#29, pickup_longitude#22, passenger_count#20, store_and_fwd_flag#25, extra#30, total_amount#35, tpep_pickup_datetime#18, dropoff_latitude#27, mta_tax#31, 200), ENSURE_REQUIREMENTS, [plan_id=924]\n",
            "            +- HashAggregate(keys=[knownfloatingpointnormalized(normalizenanandzero(improvement_surcharge#34)) AS improvement_surcharge#34, tpep_dropoff_datetime#19, knownfloatingpointnormalized(normalizenanandzero(trip_distance#21)) AS trip_distance#21, knownfloatingpointnormalized(normalizenanandzero(dropoff_longitude#26)) AS dropoff_longitude#26, RateCodeID#24, knownfloatingpointnormalized(normalizenanandzero(pickup_latitude#23)) AS pickup_latitude#23, knownfloatingpointnormalized(normalizenanandzero(tolls_amount#33)) AS tolls_amount#33, VendorID#17, knownfloatingpointnormalized(normalizenanandzero(tip_amount#32)) AS tip_amount#32, payment_type#28, knownfloatingpointnormalized(normalizenanandzero(fare_amount#29)) AS fare_amount#29, knownfloatingpointnormalized(normalizenanandzero(pickup_longitude#22)) AS pickup_longitude#22, passenger_count#20, store_and_fwd_flag#25, knownfloatingpointnormalized(normalizenanandzero(extra#30)) AS extra#30, knownfloatingpointnormalized(normalizenanandzero(total_amount#35)) AS total_amount#35, tpep_pickup_datetime#18, knownfloatingpointnormalized(normalizenanandzero(dropoff_latitude#27)) AS dropoff_latitude#27, knownfloatingpointnormalized(normalizenanandzero(mta_tax#31)) AS mta_tax#31], functions=[])\n",
            "               +- Filter (((((((((((isnotnull(total_amount#35) AND isnotnull(trip_distance#21)) AND isnotnull(payment_type#28)) AND isnotnull(passenger_count#20)) AND (total_amount#35 > 0.0)) AND (total_amount#35 <= 10.0)) AND (trip_distance#21 > 0.0)) AND (trip_distance#21 <= 3.0)) AND (payment_type#28 > 0)) AND (payment_type#28 <= 1)) AND (passenger_count#20 > 0)) AND (passenger_count#20 <= 2))\n",
            "                  +- FileScan csv [VendorID#17,tpep_pickup_datetime#18,tpep_dropoff_datetime#19,passenger_count#20,trip_distance#21,pickup_longitude#22,pickup_latitude#23,RateCodeID#24,store_and_fwd_flag#25,dropoff_longitude#26,dropoff_latitude#27,payment_type#28,fare_amount#29,extra#30,mta_tax#31,tip_amount#32,tolls_amount#33,improvement_surcharge#34,total_amount#35] Batched: false, DataFilters: [isnotnull(total_amount#35), isnotnull(trip_distance#21), isnotnull(payment_type#28), isnotnull(p..., Format: CSV, Location: InMemoryFileIndex(1 paths)[file:/content/drive/MyDrive/Colab Notebooks/MNA/TC4034 - Analisis de g..., PartitionFilters: [], PushedFilters: [IsNotNull(total_amount), IsNotNull(trip_distance), IsNotNull(payment_type), IsNotNull(passenger_..., ReadSchema: struct<VendorID:int,tpep_pickup_datetime:timestamp,tpep_dropoff_datetime:timestamp,passenger_coun...\n",
            "\n",
            "\n"
          ]
        }
      ]
    },
    {
      "cell_type": "code",
      "source": [
        "train_data.show(5)\n",
        "test_data.show(5)"
      ],
      "metadata": {
        "colab": {
          "base_uri": "https://localhost:8080/"
        },
        "id": "jd-dSwQR5NfK",
        "outputId": "b3ab3f11-7350-44b1-ee7f-bd4eda0e0d8a"
      },
      "id": "jd-dSwQR5NfK",
      "execution_count": null,
      "outputs": [
        {
          "output_type": "stream",
          "name": "stdout",
          "text": [
            "+--------+--------------------+---------------------+---------------+-------------+------------------+------------------+----------+------------------+------------------+------------------+------------+-----------+-----+-------+----------+------------+---------------------+------------+\n",
            "|VendorID|tpep_pickup_datetime|tpep_dropoff_datetime|passenger_count|trip_distance|  pickup_longitude|   pickup_latitude|RateCodeID|store_and_fwd_flag| dropoff_longitude|  dropoff_latitude|payment_type|fare_amount|extra|mta_tax|tip_amount|tolls_amount|improvement_surcharge|total_amount|\n",
            "+--------+--------------------+---------------------+---------------+-------------+------------------+------------------+----------+------------------+------------------+------------------+------------+-----------+-----+-------+----------+------------+---------------------+------------+\n",
            "|       1| 2015-01-01 00:00:52|  2015-01-01 00:04:47|              1|          0.4|-73.99990844726562|40.732852935791016|         1|                 N|-74.00487518310547| 40.73025131225586|           1|        4.2|  0.5|    0.5|      1.37|         0.0|                  0.0|        6.87|\n",
            "|       1| 2015-01-01 00:01:10|  2015-01-01 00:03:40|              1|          0.7|    -73.9521484375|40.777259826660156|         1|                 N|-73.95636749267578| 40.76793670654297|           1|        4.5|  0.5|    0.5|      1.15|         0.0|                  0.0|        6.95|\n",
            "|       1| 2015-01-01 00:01:36|  2015-01-01 00:04:09|              1|          0.3|-73.98323822021484|40.730674743652344|         1|                 N|-73.98731994628906| 40.73313903808594|           1|        3.5|  0.5|    0.5|      0.95|         0.0|                  0.0|        5.75|\n",
            "|       1| 2015-01-01 00:02:24|  2015-01-01 00:11:05|              2|          1.1|-73.98870086669922| 40.74864959716797|         1|                 N|-73.99565887451172| 40.75950622558594|           1|        7.5|  0.5|    0.5|       1.0|         0.0|                  0.0|         9.8|\n",
            "|       1| 2015-01-01 00:02:31|  2015-01-01 00:06:46|              2|          1.0|-73.95423126220703| 40.77792739868164|         1|                 N| -73.9552993774414|40.769283294677734|           1|        5.5|  0.5|    0.5|       1.7|         0.0|                  0.0|         8.5|\n",
            "+--------+--------------------+---------------------+---------------+-------------+------------------+------------------+----------+------------------+------------------+------------------+------------+-----------+-----+-------+----------+------------+---------------------+------------+\n",
            "only showing top 5 rows\n",
            "\n",
            "+--------+--------------------+---------------------+---------------+-------------+------------------+------------------+----------+------------------+------------------+-----------------+------------+-----------+-----+-------+----------+------------+---------------------+------------+\n",
            "|VendorID|tpep_pickup_datetime|tpep_dropoff_datetime|passenger_count|trip_distance|  pickup_longitude|   pickup_latitude|RateCodeID|store_and_fwd_flag| dropoff_longitude| dropoff_latitude|payment_type|fare_amount|extra|mta_tax|tip_amount|tolls_amount|improvement_surcharge|total_amount|\n",
            "+--------+--------------------+---------------------+---------------+-------------+------------------+------------------+----------+------------------+------------------+-----------------+------------+-----------+-----+-------+----------+------------+---------------------+------------+\n",
            "|       1| 2015-01-01 00:01:21|  2015-01-01 00:06:22|              1|          1.0|-74.00354766845703|40.738685607910156|         1|                 Y|-74.00235748291016|40.75029754638672|           1|        5.7|  0.5|    0.5|       1.4|         0.0|                  0.0|         8.4|\n",
            "|       1| 2015-01-01 00:02:46|  2015-01-01 00:04:04|              1|          0.2|-73.98686218261719| 40.75043487548828|         1|                 N| -73.9903564453125|  40.752685546875|           1|        2.7|  0.5|    0.5|       4.0|         0.0|                  0.0|         8.0|\n",
            "|       1| 2015-01-01 00:03:05|  2015-01-01 00:05:26|              1|          0.4|-73.98267364501953|40.735992431640625|         1|                 N|-73.98664093017578|40.73212814331055|           1|        3.7|  0.5|    0.5|       1.0|         0.0|                  0.0|         6.0|\n",
            "|       1| 2015-01-01 00:04:46|  2015-01-01 00:08:24|              1|          0.4|-73.95775604248047| 40.71459197998047|         1|                 Y|-73.95921325683594|40.71839141845703|           1|        4.5|  0.5|    0.5|       1.7|         0.0|                  0.0|         7.5|\n",
            "|       1| 2015-01-01 00:05:29|  2015-01-01 00:10:48|              1|          0.8|-74.00873565673828| 40.72561264038086|         1|                 N|-73.99584197998047|40.72126007080078|           1|        5.2|  0.5|    0.5|       1.3|         0.0|                  0.0|         7.8|\n",
            "+--------+--------------------+---------------------+---------------+-------------+------------------+------------------+----------+------------------+------------------+-----------------+------------+-----------+-----+-------+----------+------------+---------------------+------------+\n",
            "only showing top 5 rows\n",
            "\n"
          ]
        }
      ]
    },
    {
      "cell_type": "code",
      "source": [
        "from pyspark.ml.feature import VectorAssembler\n",
        "\n",
        "assembler = VectorAssembler(inputCols=['passenger_count', 'trip_distance', 'payment_type', 'fare_amount','extra','mta_tax','tip_amount','tolls_amount','improvement_surcharge','total_amount'], outputCol = 'Attributes')\n",
        "output_train = assembler.transform(train_data)\n",
        "output_test = assembler.transform(test_data)\n",
        "\n",
        "output_train.show(5)\n",
        "output_test.show(5)"
      ],
      "metadata": {
        "colab": {
          "base_uri": "https://localhost:8080/"
        },
        "id": "xS2faoUhyegm",
        "outputId": "fd0eb989-c775-4313-f37c-72d040fa6a56"
      },
      "id": "xS2faoUhyegm",
      "execution_count": null,
      "outputs": [
        {
          "output_type": "stream",
          "name": "stdout",
          "text": [
            "+--------+--------------------+---------------------+---------------+-------------+------------------+------------------+----------+------------------+------------------+------------------+------------+-----------+-----+-------+----------+------------+---------------------+------------+--------------------+\n",
            "|VendorID|tpep_pickup_datetime|tpep_dropoff_datetime|passenger_count|trip_distance|  pickup_longitude|   pickup_latitude|RateCodeID|store_and_fwd_flag| dropoff_longitude|  dropoff_latitude|payment_type|fare_amount|extra|mta_tax|tip_amount|tolls_amount|improvement_surcharge|total_amount|          Attributes|\n",
            "+--------+--------------------+---------------------+---------------+-------------+------------------+------------------+----------+------------------+------------------+------------------+------------+-----------+-----+-------+----------+------------+---------------------+------------+--------------------+\n",
            "|       1| 2015-01-01 00:00:52|  2015-01-01 00:04:47|              1|          0.4|-73.99990844726562|40.732852935791016|         1|                 N|-74.00487518310547| 40.73025131225586|           1|        4.2|  0.5|    0.5|      1.37|         0.0|                  0.0|        6.87|[1.0,0.4,1.0,4.2,...|\n",
            "|       1| 2015-01-01 00:01:10|  2015-01-01 00:03:40|              1|          0.7|    -73.9521484375|40.777259826660156|         1|                 N|-73.95636749267578| 40.76793670654297|           1|        4.5|  0.5|    0.5|      1.15|         0.0|                  0.0|        6.95|[1.0,0.7,1.0,4.5,...|\n",
            "|       1| 2015-01-01 00:01:36|  2015-01-01 00:04:09|              1|          0.3|-73.98323822021484|40.730674743652344|         1|                 N|-73.98731994628906| 40.73313903808594|           1|        3.5|  0.5|    0.5|      0.95|         0.0|                  0.0|        5.75|[1.0,0.3,1.0,3.5,...|\n",
            "|       1| 2015-01-01 00:02:24|  2015-01-01 00:11:05|              2|          1.1|-73.98870086669922| 40.74864959716797|         1|                 N|-73.99565887451172| 40.75950622558594|           1|        7.5|  0.5|    0.5|       1.0|         0.0|                  0.0|         9.8|[2.0,1.1,1.0,7.5,...|\n",
            "|       1| 2015-01-01 00:02:31|  2015-01-01 00:06:46|              2|          1.0|-73.95423126220703| 40.77792739868164|         1|                 N| -73.9552993774414|40.769283294677734|           1|        5.5|  0.5|    0.5|       1.7|         0.0|                  0.0|         8.5|[2.0,1.0,1.0,5.5,...|\n",
            "+--------+--------------------+---------------------+---------------+-------------+------------------+------------------+----------+------------------+------------------+------------------+------------+-----------+-----+-------+----------+------------+---------------------+------------+--------------------+\n",
            "only showing top 5 rows\n",
            "\n",
            "+--------+--------------------+---------------------+---------------+-------------+------------------+------------------+----------+------------------+------------------+-----------------+------------+-----------+-----+-------+----------+------------+---------------------+------------+--------------------+\n",
            "|VendorID|tpep_pickup_datetime|tpep_dropoff_datetime|passenger_count|trip_distance|  pickup_longitude|   pickup_latitude|RateCodeID|store_and_fwd_flag| dropoff_longitude| dropoff_latitude|payment_type|fare_amount|extra|mta_tax|tip_amount|tolls_amount|improvement_surcharge|total_amount|          Attributes|\n",
            "+--------+--------------------+---------------------+---------------+-------------+------------------+------------------+----------+------------------+------------------+-----------------+------------+-----------+-----+-------+----------+------------+---------------------+------------+--------------------+\n",
            "|       1| 2015-01-01 00:01:21|  2015-01-01 00:06:22|              1|          1.0|-74.00354766845703|40.738685607910156|         1|                 Y|-74.00235748291016|40.75029754638672|           1|        5.7|  0.5|    0.5|       1.4|         0.0|                  0.0|         8.4|[1.0,1.0,1.0,5.7,...|\n",
            "|       1| 2015-01-01 00:02:46|  2015-01-01 00:04:04|              1|          0.2|-73.98686218261719| 40.75043487548828|         1|                 N| -73.9903564453125|  40.752685546875|           1|        2.7|  0.5|    0.5|       4.0|         0.0|                  0.0|         8.0|[1.0,0.2,1.0,2.7,...|\n",
            "|       1| 2015-01-01 00:03:05|  2015-01-01 00:05:26|              1|          0.4|-73.98267364501953|40.735992431640625|         1|                 N|-73.98664093017578|40.73212814331055|           1|        3.7|  0.5|    0.5|       1.0|         0.0|                  0.0|         6.0|[1.0,0.4,1.0,3.7,...|\n",
            "|       1| 2015-01-01 00:04:46|  2015-01-01 00:08:24|              1|          0.4|-73.95775604248047| 40.71459197998047|         1|                 Y|-73.95921325683594|40.71839141845703|           1|        4.5|  0.5|    0.5|       1.7|         0.0|                  0.0|         7.5|[1.0,0.4,1.0,4.5,...|\n",
            "|       1| 2015-01-01 00:05:29|  2015-01-01 00:10:48|              1|          0.8|-74.00873565673828| 40.72561264038086|         1|                 N|-73.99584197998047|40.72126007080078|           1|        5.2|  0.5|    0.5|       1.3|         0.0|                  0.0|         7.8|[1.0,0.8,1.0,5.2,...|\n",
            "+--------+--------------------+---------------------+---------------+-------------+------------------+------------------+----------+------------------+------------------+-----------------+------------+-----------+-----+-------+----------+------------+---------------------+------------+--------------------+\n",
            "only showing top 5 rows\n",
            "\n"
          ]
        }
      ]
    },
    {
      "cell_type": "markdown",
      "source": [
        "# Construcci\u00f3n de modelo de aprendizaje supervisado\n"
      ],
      "metadata": {
        "id": "IWr0taTsLUMP"
      },
      "id": "IWr0taTsLUMP"
    },
    {
      "cell_type": "code",
      "source": [
        "# Se manda a entrenar con un modelo de regresion Lineal\n",
        "from pyspark.ml.regression import LinearRegression\n",
        "lr = LinearRegression(featuresCol = 'Attributes', labelCol = 'total_amount', maxIter=10, regParam=0.3, elasticNetParam=0.8)\n",
        "lr_model = lr.fit(output_train)\n"
      ],
      "metadata": {
        "id": "wBWYXuhv6Jyi"
      },
      "id": "wBWYXuhv6Jyi",
      "execution_count": 28,
      "outputs": []
    },
    {
      "cell_type": "code",
      "source": [
        "# Se Imprimen los valores de los coeficientes\n",
        "print (\"The coefficient of the model is : \", lr_model.coefficients)\n",
        "print (\"The Intercept of the model is : \", lr_model.intercept)"
      ],
      "metadata": {
        "colab": {
          "base_uri": "https://localhost:8080/"
        },
        "id": "WM6CkH3v_rEo",
        "outputId": "d900777f-7a67-4502-9420-4b83d3678e7f"
      },
      "id": "WM6CkH3v_rEo",
      "execution_count": 29,
      "outputs": [
        {
          "output_type": "stream",
          "name": "stdout",
          "text": [
            "The coefficient of the model is :  [0.0,0.0,0.0,0.07176324241990555,0.0,0.0,0.0,0.0,0.0,0.7399143393761345]\n",
            "The Intercept of the model is :  1.6847999513363057\n"
          ]
        }
      ]
    },
    {
      "cell_type": "code",
      "source": [
        "# Se aplica el modelo al conjunto test\n",
        "Pred_lr = lr_model.evaluate(output_test)"
      ],
      "metadata": {
        "id": "aCzUN1Fx_uj-"
      },
      "id": "aCzUN1Fx_uj-",
      "execution_count": 30,
      "outputs": []
    },
    {
      "cell_type": "code",
      "source": [
        "# Evaluaci\u00f3n del modelo\n",
        "from pyspark.ml.evaluation import RegressionEvaluator\n",
        "\n",
        "#Root Mean Square Error\n",
        "eval_lr = RegressionEvaluator(labelCol=\"total_amount\", predictionCol=\"prediction\", metricName=\"rmse\")\n",
        "rmse_lr = eval_lr.evaluate(Pred_lr.predictions)\n",
        "print(\"RMSE: %.3f\" % rmse_lr)\n",
        "\n",
        "# Mean Square Error\n",
        "mse = eval_lr.evaluate(Pred_lr.predictions, {eval_lr.metricName: \"mse\"})\n",
        "print(\"MSE: %.3f\" % mse)\n",
        "\n",
        "# Mean Absolute Error\n",
        "mae = eval_lr.evaluate(Pred_lr.predictions, {eval_lr.metricName: \"mae\"})\n",
        "print(\"MAE: %.3f\" % mae)\n",
        "\n",
        "# r2 - coefficient of determination\n",
        "r2 = eval_lr.evaluate(Pred_lr.predictions, {eval_lr.metricName: \"r2\"})\n",
        "print(\"r2: %.3f\" %r2)"
      ],
      "metadata": {
        "colab": {
          "base_uri": "https://localhost:8080/"
        },
        "id": "1vAFbeNc_w9y",
        "outputId": "097fba01-cb34-41fd-8950-c4a8cb7b61ea"
      },
      "id": "1vAFbeNc_w9y",
      "execution_count": 31,
      "outputs": [
        {
          "output_type": "stream",
          "name": "stdout",
          "text": [
            "RMSE: 0.264\n",
            "MSE: 0.070\n",
            "MAE: 0.220\n",
            "r2: 0.958\n"
          ]
        }
      ]
    },
    {
      "cell_type": "code",
      "source": [
        "# salvando el modelo lr_model y si existe sobreescribirlo\n",
        "lr_model.save(\"/content/drive/MyDrive/Colab Notebooks/MNA/TC4034 - Analisis de grandes volumenes de datos/Actividad 3/lr_model\")\n",
        "# Leer el modelo del directorio\n",
        "from pyspark.ml.regression import LinearRegressionModel\n",
        "lr_model_loaded = LinearRegressionModel.load(\"/content/drive/MyDrive/Colab Notebooks/MNA/TC4034 - Analisis de grandes volumenes de datos/Actividad 3/lr_model\")"
      ],
      "metadata": {
        "id": "-63AHWQ3_45Z"
      },
      "id": "-63AHWQ3_45Z",
      "execution_count": 32,
      "outputs": []
    },
    {
      "cell_type": "markdown",
      "source": [
        "# Construcci\u00f3n de modelo de aprendizaje no supervisado"
      ],
      "metadata": {
        "id": "o5lg617KdsHG"
      },
      "id": "o5lg617KdsHG"
    },
    {
      "cell_type": "code",
      "source": [
        "from pyspark.ml.clustering import KMeans\n",
        "from pyspark.ml.evaluation import ClusteringEvaluator\n",
        "\n",
        "# Entrenar modelo de KMeans\n",
        "kmeans = KMeans(featuresCol=\"Attributes\", k=3, seed=1)\n",
        "kmeans_model = kmeans.fit(output_train)"
      ],
      "metadata": {
        "id": "ZllHtgfvbyBd"
      },
      "id": "ZllHtgfvbyBd",
      "execution_count": 34,
      "outputs": []
    },
    {
      "cell_type": "code",
      "source": [
        "# Hacer predicciones\n",
        "predictions = kmeans_model.transform(output_train)\n",
        "\n",
        "# Evaluar con Silhouette Score (medida est\u00e1ndar en clustering)\n",
        "evaluator = ClusteringEvaluator(featuresCol=\"Attributes\", predictionCol=\"prediction\", metricName=\"silhouette\", distanceMeasure=\"squaredEuclidean\")\n",
        "\n",
        "silhouette = evaluator.evaluate(predictions)\n",
        "print(f\"Silhouette Score: {silhouette:.3f}\")"
      ],
      "metadata": {
        "colab": {
          "base_uri": "https://localhost:8080/"
        },
        "id": "epOKo4U3dEtD",
        "outputId": "d354c699-8cf0-4d43-a987-092121366494"
      },
      "id": "epOKo4U3dEtD",
      "execution_count": 35,
      "outputs": [
        {
          "output_type": "stream",
          "name": "stdout",
          "text": [
            "Silhouette Score: 0.553\n"
          ]
        }
      ]
    },
    {
      "cell_type": "code",
      "source": [
        "# Obtener los centros de cl\u00faster\n",
        "centers = kmeans_model.clusterCenters()\n",
        "print(\"Centros de los cl\u00fasteres:\")\n",
        "for idx, center in enumerate(centers):\n",
        "    print(f\"Cl\u00faster {idx}: {center}\")"
      ],
      "metadata": {
        "colab": {
          "base_uri": "https://localhost:8080/"
        },
        "id": "b8TZDk-zdG07",
        "outputId": "ec657325-827d-4546-9d1a-adc46e74244b"
      },
      "id": "b8TZDk-zdG07",
      "execution_count": 36,
      "outputs": [
        {
          "output_type": "stream",
          "name": "stdout",
          "text": [
            "Centros de los cl\u00fasteres:\n",
            "Cl\u00faster 0: [1.14905405e+00 5.84783472e-01 1.00000000e+00 4.34491204e+00\n",
            " 2.25800825e-01 4.99886623e-01 9.82604670e-01 5.01638615e-05\n",
            " 2.82471741e-01 6.35258304e+00]\n",
            "Cl\u00faster 1: [1.15690268e+00 1.20850183e+00 1.00000000e+00 6.93671007e+00\n",
            " 2.64212735e-01 4.99893182e-01 1.37754166e+00 3.49348871e-05\n",
            " 2.84578545e-01 9.37784020e+00]\n",
            "Cl\u00faster 2: [1.15596129e+00 8.86662935e-01 1.00000000e+00 5.60916511e+00\n",
            " 3.23651546e-01 4.99919391e-01 1.25973538e+00 7.76388012e-05\n",
            " 2.83830649e-01 7.99192389e+00]\n"
          ]
        }
      ]
    },
    {
      "cell_type": "code",
      "source": [
        "# salvando el modelo kmeans_model y si existe sobreescribirlo\n",
        "kmeans_model.write().overwrite().save(\"/content/drive/MyDrive/Colab Notebooks/MNA/TC4034 - Analisis de grandes volumenes de datos/Actividad 3/kmeans_model\")\n",
        "# Leer el modelo del directorio\n",
        "from pyspark.ml.clustering import KMeansModel\n",
        "kmeans_model_loaded = KMeansModel.load(\"/content/drive/MyDrive/Colab Notebooks/MNA/TC4034 - Analisis de grandes volumenes de datos/Actividad 3/kmeans_model\")"
      ],
      "metadata": {
        "id": "IviFgXTKdzk0"
      },
      "id": "IviFgXTKdzk0",
      "execution_count": 43,
      "outputs": []
    },
    {
      "cell_type": "markdown",
      "source": [
        "# Conclusiones"
      ],
      "metadata": {
        "id": "lMzME4KfmXzW"
      },
      "id": "lMzME4KfmXzW"
    },
    {
      "cell_type": "markdown",
      "source": [
        "El modelo de regresi\u00f3n lineal entrenado muestra un muy buen desempe\u00f1o predictivo seg\u00fan las m\u00e9tricas obtenidas:\n",
        "\n",
        "- RMSE (Root Mean Square Error) = 0.264\n",
        "Este valor indica que, en promedio, las predicciones del modelo se desv\u00edan en \u00b10.264 unidades respecto al valor real. Es un error bajo, lo que sugiere buena precisi\u00f3n general.\n",
        "\n",
        "- MSE (Mean Squared Error) = 0.070\n",
        "Confirma que el error cuadr\u00e1tico medio es peque\u00f1o. Como MSE penaliza los errores grandes, este valor tambi\u00e9n respalda la calidad del modelo.\n",
        "\n",
        "- MAE (Mean Absolute Error) = 0.220\n",
        "Refleja que, en promedio, la desviaci\u00f3n absoluta entre predicciones y valores reales es de solo 0.220 unidades, lo cual es muy aceptable.\n",
        "\n",
        "- R\u00b2 (Coeficiente de determinaci\u00f3n) = 0.958\n",
        "Este valor indica que el modelo explica el 95.8% de la variabilidad de la variable dependiente. Es un excelente ajuste, ya que valores cercanos a 1 indican una fuerte relaci\u00f3n entre variables."
      ],
      "metadata": {
        "id": "gISvUZs3mfS5"
      },
      "id": "gISvUZs3mfS5"
    },
    {
      "cell_type": "markdown",
      "source": [
        "En el modelo de KMeans, el valor de Silhouette Score obtenido es 0.553, lo cual indica un buen nivel de separaci\u00f3n entre los cl\u00fasteres generados por el modelo.\n",
        "\n",
        "\u00bfQu\u00e9 significa este valor?\n",
        "El Silhouette Score var\u00eda entre -1 y 1:\n",
        "\n",
        "- Cercano a 1: Excelente agrupamiento, los puntos est\u00e1n bien asignados a sus cl\u00fasteres.\n",
        "\n",
        "- Cerca de 0: Los puntos est\u00e1n en el l\u00edmite entre cl\u00fasteres (no muy bien definidos).\n",
        "\n",
        "- Menor a 0: Los puntos est\u00e1n mal agrupados.\n",
        "\n",
        "Un 0.553 indica que los datos est\u00e1n moderadamente bien agrupados, con una buena cohesi\u00f3n interna (compactaci\u00f3n de cl\u00fasteres) y separaci\u00f3n entre grupos.\n",
        "\n",
        "Esto sugiere que:\n",
        "\n",
        "- El n\u00famero de cl\u00fasteres (k) elegido es razonable.\n",
        "\n",
        "- Los atributos usados en features capturan adecuadamente las diferencias entre grupos."
      ],
      "metadata": {
        "id": "ojQJGu3UnVAS"
      },
      "id": "ojQJGu3UnVAS"
    }
  ],
  "metadata": {
    "colab": {
      "provenance": []
    },
    "kernelspec": {
      "display_name": "env-pyspark",
      "language": "python",
      "name": "python3"
    },
    "language_info": {
      "codemirror_mode": {
        "name": "ipython",
        "version": 3
      },
      "file_extension": ".py",
      "mimetype": "text/x-python",
      "name": "python",
      "nbconvert_exporter": "python",
      "pygments_lexer": "ipython3",
      "version": "3.12.9"
    }
  },
  "nbformat": 4,
  "nbformat_minor": 5
}